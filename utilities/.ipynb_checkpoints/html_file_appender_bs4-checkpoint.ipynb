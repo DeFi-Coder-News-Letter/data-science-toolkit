{
 "cells": [
  {
   "cell_type": "markdown",
   "metadata": {},
   "source": [
    "# Appending Many HTML Files Into One in Python (w/ BeautifulSoup)\n",
    "\n",
    "By: [Paul Jeffries](https://twitter.com/ByPaulJ) \n",
    "\n",
    "## Example Use Case:\n",
    "\n",
    "For the purpose of this example, all I did was append two copies of the example HTML document [from R Studio's website](https://rmarkdown.rstudio.com/gallery.html)--which happens to be a [series of vignettes involving charts made by the NYT](http://timelyportfolio.github.io/rCharts_nyt_home_price/). That said, in practice this code, or an adaptation thereof, might prove helpful wherever you need to go from many .html files to one. This might be compiling, for example, many .html files that were output by an RMarkdown-centric process, where the use of Bookdown was not feasible. The benefit of this kind of process as opposed to a unix scripting solution or some other alternative is that if you have a table of contents, this process will preserve it. \n",
    "\n",
    "Whatever your desired use case, I hope you find this code helpful or informative in some way!"
   ]
  },
  {
   "cell_type": "code",
   "execution_count": 1,
   "metadata": {},
   "outputs": [
    {
     "name": "stdout",
     "output_type": "stream",
     "text": [
      "This notebook was late run:  2019-03-31 16:58:26.882320\n"
     ]
    }
   ],
   "source": [
    "import datetime\n",
    "# prints the present date and time as a form of log\n",
    "print(\"This notebook was late run: \", datetime.datetime.now())"
   ]
  },
  {
   "cell_type": "code",
   "execution_count": 2,
   "metadata": {},
   "outputs": [],
   "source": [
    "# needed packages\n",
    "from bs4 import BeautifulSoup\n",
    "import copy\n",
    "import glob"
   ]
  },
  {
   "cell_type": "code",
   "execution_count": 3,
   "metadata": {},
   "outputs": [
    {
     "name": "stdout",
     "output_type": "stream",
     "text": [
      "['html_example_file1.html', 'html_example_file2.html.html', 'test_html_master_file.html']\n"
     ]
    }
   ],
   "source": [
    "# pulls in all files at specified location ending in .html\n",
    "# you can sort many ways, I just chose alphabetical (default)\n",
    "list_of_files_to_append = sorted(glob.glob('*.html'))\n",
    "\n",
    "# prints the list of paths to test that the glob call worked\n",
    "print(list_of_files_to_append)"
   ]
  },
  {
   "cell_type": "code",
   "execution_count": 4,
   "metadata": {},
   "outputs": [
    {
     "name": "stdout",
     "output_type": "stream",
     "text": [
      "0\n",
      "1\n",
      "2\n"
     ]
    }
   ],
   "source": [
    "# builiding a for loop to iteratively append all of the HTML files in the target directory\n",
    "\n",
    "# creating an empty list to store errors I catch in the for loop below\n",
    "bad_list = []\n",
    "\n",
    "# kicks off the main for loop\n",
    "for i in range(len(list_of_files_to_append)):\n",
    "    # prints out what iteration we're on--mostly for trouble-shooting\n",
    "    print(i)\n",
    "    # wrapping the rest in a try/except block for error-catching\n",
    "    try:\n",
    "            # if it's the first run through, initialize final_soup as the bs from the first html file\n",
    "            if i == 0:\n",
    "                    final_soup = BeautifulSoup(''.join(open(list_of_files_to_append[0])), 'lxml')\n",
    "            # if it's not the first run through, create present_soup as the i-th soup object\n",
    "            else:\n",
    "                    present_soup = BeautifulSoup(''.join(open(list_of_files_to_append[i])), 'lxml')\n",
    "                    # iterate over each element in the body of present_soup and append to the final_soup\n",
    "                    for element in present_soup.body:\n",
    "                            final_soup.body.append(copy.copy(element))\n",
    "    # if anything breaks, we append the iteration number to the bad_list so we can see where we failed\n",
    "    except:\n",
    "            bad_list.append(i)\n",
    "            continue"
   ]
  },
  {
   "cell_type": "code",
   "execution_count": 5,
   "metadata": {},
   "outputs": [
    {
     "name": "stdout",
     "output_type": "stream",
     "text": [
      "Congratulations! No files failed to append.\n"
     ]
    }
   ],
   "source": [
    "# iterating over all captured erros and printing the names of the files that failed to append\n",
    "# otherwise, we get a message saying all is well\n",
    "\n",
    "# checks if list object is empty\n",
    "if not bad_list:\n",
    "  print(\"Congratulations! No files failed to append.\")\n",
    "else:\n",
    "    for i in range(len(bad_list)):\n",
    "        print(\"One file that failed to be appended is: \", \n",
    "              # splits on '/' and takes the last segement counting from end\n",
    "              list_of_files_to_append[bad_list[i]].split('/')[-1])   "
   ]
  },
  {
   "cell_type": "code",
   "execution_count": 6,
   "metadata": {},
   "outputs": [],
   "source": [
    "# write the resulting single master html file locally\n",
    "with open(\"test_html_master_file.html\", 'w') as file:\n",
    "    file.write(str(final_soup))"
   ]
  },
  {
   "cell_type": "code",
   "execution_count": null,
   "metadata": {},
   "outputs": [],
   "source": []
  }
 ],
 "metadata": {
  "kernelspec": {
   "display_name": "Python 3",
   "language": "python",
   "name": "python3"
  },
  "language_info": {
   "codemirror_mode": {
    "name": "ipython",
    "version": 3
   },
   "file_extension": ".py",
   "mimetype": "text/x-python",
   "name": "python",
   "nbconvert_exporter": "python",
   "pygments_lexer": "ipython3",
   "version": "3.7.0"
  }
 },
 "nbformat": 4,
 "nbformat_minor": 2
}
