{
 "cells": [
  {
   "cell_type": "markdown",
   "metadata": {},
   "source": [
    "# Visualizing Geographic Data in Python\n",
    "\n",
    "By: [Paul Jeffries](https://twitter.com/ByPaulJ) "
   ]
  },
  {
   "cell_type": "markdown",
   "metadata": {},
   "source": [
    "## Basic Setup"
   ]
  },
  {
   "cell_type": "code",
   "execution_count": 1,
   "metadata": {},
   "outputs": [
    {
     "name": "stdout",
     "output_type": "stream",
     "text": [
      "This notebook was late run:  2019-03-31 16:57:08.059739\n"
     ]
    }
   ],
   "source": [
    "import datetime\n",
    "# prints the present date and time as a form of log\n",
    "print(\"This notebook was late run: \", datetime.datetime.now())"
   ]
  },
  {
   "cell_type": "code",
   "execution_count": 2,
   "metadata": {
    "collapsed": true
   },
   "outputs": [],
   "source": [
    "# key packages\n",
    "import pandas as pd\n",
    "import numpy as np"
   ]
  },
  {
   "cell_type": "markdown",
   "metadata": {},
   "source": [
    "## Choropleth Maps\n",
    "\n",
    "We'll start by building a choropleth map of the United States to show % of GDP by state as of 2017. The data I used were taken from the [U.S. Bureau of Economic Analysis](https://apps.bea.gov/itable/iTable.cfm?ReqID=70&step=1).\n",
    "\n",
    "For the documentation from Plotly on how to build these types of choropleth maps, [check out this link here](https://plot.ly/python/choropleth-maps/). For a helpful walkthrough article, [check out this link here](https://medium.com/@kbrook10/day-8-data-visualization-how-to-use-choropleth-maps-63c0fedfd5e7)."
   ]
  },
  {
   "cell_type": "code",
   "execution_count": 3,
   "metadata": {},
   "outputs": [
    {
     "data": {
      "text/html": [
       "<div>\n",
       "<style scoped>\n",
       "    .dataframe tbody tr th:only-of-type {\n",
       "        vertical-align: middle;\n",
       "    }\n",
       "\n",
       "    .dataframe tbody tr th {\n",
       "        vertical-align: top;\n",
       "    }\n",
       "\n",
       "    .dataframe thead th {\n",
       "        text-align: right;\n",
       "    }\n",
       "</style>\n",
       "<table border=\"1\" class=\"dataframe\">\n",
       "  <thead>\n",
       "    <tr style=\"text-align: right;\">\n",
       "      <th></th>\n",
       "      <th>GeoFips</th>\n",
       "      <th>GeoName</th>\n",
       "      <th>State</th>\n",
       "      <th>2017</th>\n",
       "    </tr>\n",
       "  </thead>\n",
       "  <tbody>\n",
       "    <tr>\n",
       "      <th>0</th>\n",
       "      <td>1000</td>\n",
       "      <td>Alabama</td>\n",
       "      <td>AL</td>\n",
       "      <td>1.1</td>\n",
       "    </tr>\n",
       "    <tr>\n",
       "      <th>1</th>\n",
       "      <td>2000</td>\n",
       "      <td>Alaska</td>\n",
       "      <td>AK</td>\n",
       "      <td>0.3</td>\n",
       "    </tr>\n",
       "    <tr>\n",
       "      <th>2</th>\n",
       "      <td>4000</td>\n",
       "      <td>Arizona</td>\n",
       "      <td>AZ</td>\n",
       "      <td>1.7</td>\n",
       "    </tr>\n",
       "    <tr>\n",
       "      <th>3</th>\n",
       "      <td>5000</td>\n",
       "      <td>Arkansas</td>\n",
       "      <td>AR</td>\n",
       "      <td>0.6</td>\n",
       "    </tr>\n",
       "    <tr>\n",
       "      <th>4</th>\n",
       "      <td>6000</td>\n",
       "      <td>California</td>\n",
       "      <td>CA</td>\n",
       "      <td>14.4</td>\n",
       "    </tr>\n",
       "  </tbody>\n",
       "</table>\n",
       "</div>"
      ],
      "text/plain": [
       "   GeoFips     GeoName State  2017\n",
       "0     1000     Alabama    AL   1.1\n",
       "1     2000      Alaska    AK   0.3\n",
       "2     4000     Arizona    AZ   1.7\n",
       "3     5000    Arkansas    AR   0.6\n",
       "4     6000  California    CA  14.4"
      ]
     },
     "execution_count": 3,
     "metadata": {},
     "output_type": "execute_result"
    }
   ],
   "source": [
    "# importing the dataset of % of US GDP by state from the CSV\n",
    "gdp_perc_state_df = pd.read_csv(filepath_or_buffer = './data/perc_us_gdp_by_state_2017.csv')\n",
    "\n",
    "# inspecting the data\n",
    "gdp_perc_state_df.head()"
   ]
  },
  {
   "cell_type": "code",
   "execution_count": 4,
   "metadata": {},
   "outputs": [
    {
     "data": {
      "text/html": [
       "<div>\n",
       "<style scoped>\n",
       "    .dataframe tbody tr th:only-of-type {\n",
       "        vertical-align: middle;\n",
       "    }\n",
       "\n",
       "    .dataframe tbody tr th {\n",
       "        vertical-align: top;\n",
       "    }\n",
       "\n",
       "    .dataframe thead th {\n",
       "        text-align: right;\n",
       "    }\n",
       "</style>\n",
       "<table border=\"1\" class=\"dataframe\">\n",
       "  <thead>\n",
       "    <tr style=\"text-align: right;\">\n",
       "      <th></th>\n",
       "      <th>GeoFips</th>\n",
       "      <th>GeoName</th>\n",
       "      <th>State</th>\n",
       "      <th>2017</th>\n",
       "      <th>rank</th>\n",
       "      <th>text</th>\n",
       "    </tr>\n",
       "  </thead>\n",
       "  <tbody>\n",
       "    <tr>\n",
       "      <th>0</th>\n",
       "      <td>1000</td>\n",
       "      <td>Alabama</td>\n",
       "      <td>AL</td>\n",
       "      <td>1.1</td>\n",
       "      <td>26</td>\n",
       "      <td>Alabama made up 1.1% of US GDP in 2017, rankin...</td>\n",
       "    </tr>\n",
       "    <tr>\n",
       "      <th>1</th>\n",
       "      <td>2000</td>\n",
       "      <td>Alaska</td>\n",
       "      <td>AK</td>\n",
       "      <td>0.3</td>\n",
       "      <td>46</td>\n",
       "      <td>Alaska made up 0.3% of US GDP in 2017, ranking...</td>\n",
       "    </tr>\n",
       "    <tr>\n",
       "      <th>2</th>\n",
       "      <td>4000</td>\n",
       "      <td>Arizona</td>\n",
       "      <td>AZ</td>\n",
       "      <td>1.7</td>\n",
       "      <td>20</td>\n",
       "      <td>Arizona made up 1.7% of US GDP in 2017, rankin...</td>\n",
       "    </tr>\n",
       "    <tr>\n",
       "      <th>3</th>\n",
       "      <td>5000</td>\n",
       "      <td>Arkansas</td>\n",
       "      <td>AR</td>\n",
       "      <td>0.6</td>\n",
       "      <td>36</td>\n",
       "      <td>Arkansas made up 0.6% of US GDP in 2017, ranki...</td>\n",
       "    </tr>\n",
       "    <tr>\n",
       "      <th>4</th>\n",
       "      <td>6000</td>\n",
       "      <td>California</td>\n",
       "      <td>CA</td>\n",
       "      <td>14.4</td>\n",
       "      <td>1</td>\n",
       "      <td>California made up 14.4% of US GDP in 2017, ra...</td>\n",
       "    </tr>\n",
       "  </tbody>\n",
       "</table>\n",
       "</div>"
      ],
      "text/plain": [
       "   GeoFips     GeoName State  2017  rank  \\\n",
       "0     1000     Alabama    AL   1.1    26   \n",
       "1     2000      Alaska    AK   0.3    46   \n",
       "2     4000     Arizona    AZ   1.7    20   \n",
       "3     5000    Arkansas    AR   0.6    36   \n",
       "4     6000  California    CA  14.4     1   \n",
       "\n",
       "                                                text  \n",
       "0  Alabama made up 1.1% of US GDP in 2017, rankin...  \n",
       "1  Alaska made up 0.3% of US GDP in 2017, ranking...  \n",
       "2  Arizona made up 1.7% of US GDP in 2017, rankin...  \n",
       "3  Arkansas made up 0.6% of US GDP in 2017, ranki...  \n",
       "4  California made up 14.4% of US GDP in 2017, ra...  "
      ]
     },
     "execution_count": 4,
     "metadata": {},
     "output_type": "execute_result"
    }
   ],
   "source": [
    "# making a few additions / alterations to the base data prior to building the viz\n",
    "\n",
    "# creating a rank column for percent contribution to GDP\n",
    "# this way we can call out which state is the #1, #2, #n contributor more easily\n",
    "gdp_perc_state_df['rank'] = gdp_perc_state_df['2017'].rank(ascending=False).astype(int)\n",
    "\n",
    "# editing the text to display in the tooltip\n",
    "gdp_perc_state_df['text'] = gdp_perc_state_df['GeoName'] + \" made up \" +\\\n",
    "    gdp_perc_state_df['2017'].astype(str) + \"% of US GDP in 2017, ranking at position \" +\\\n",
    "    gdp_perc_state_df['rank'].astype(str) + \" in terms of % contribution to US GPD.\"\n",
    "\n",
    "# final check on structure of data\n",
    "gdp_perc_state_df.head()"
   ]
  },
  {
   "cell_type": "code",
   "execution_count": 5,
   "metadata": {
    "collapsed": true
   },
   "outputs": [],
   "source": [
    "# key packages to work offline\n",
    "from plotly.offline import download_plotlyjs, init_notebook_mode, plot, iplot"
   ]
  },
  {
   "cell_type": "code",
   "execution_count": 6,
   "metadata": {},
   "outputs": [
    {
     "name": "stdout",
     "output_type": "stream",
     "text": [
      "JupyterLab v0.35.4\n",
      "Known labextensions:\n",
      "   app dir: /Users/pauljeffries/anaconda3/share/jupyter/lab\n",
      "        @jupyterlab/plotly-extension v0.18.1 \u001b[32m enabled \u001b[0m \u001b[32mOK\u001b[0m\n"
     ]
    }
   ],
   "source": [
    "# this can sometimes be finicky; if you run into errors, update your packages, as below\n",
    "# !pip install plotly --upgrade\n",
    "\n",
    "# enabling the needed jupyter lab extension, and checking to be sure it's running\n",
    "!jupyter labextension enable @jupyterlab/plotly-extension\n",
    "!jupyter labextension list"
   ]
  },
  {
   "cell_type": "code",
   "execution_count": 7,
   "metadata": {},
   "outputs": [
    {
     "data": {
      "text/html": [
       "<script type=\"text/javascript\">window.PlotlyConfig = {MathJaxConfig: 'local'};</script><script type=\"text/javascript\">if (window.MathJax) {MathJax.Hub.Config({SVG: {font: \"STIX-Web\"}});}</script><script>requirejs.config({paths: { 'plotly': ['https://cdn.plot.ly/plotly-latest.min']},});if(!window._Plotly) {require(['plotly'],function(plotly) {window._Plotly=plotly;});}</script>"
      ],
      "text/vnd.plotly.v1+html": [
       "<script type=\"text/javascript\">window.PlotlyConfig = {MathJaxConfig: 'local'};</script><script type=\"text/javascript\">if (window.MathJax) {MathJax.Hub.Config({SVG: {font: \"STIX-Web\"}});}</script><script>requirejs.config({paths: { 'plotly': ['https://cdn.plot.ly/plotly-latest.min']},});if(!window._Plotly) {require(['plotly'],function(plotly) {window._Plotly=plotly;});}</script>"
      ]
     },
     "metadata": {},
     "output_type": "display_data"
    }
   ],
   "source": [
    "# run the below at the start of every nb to use plotly.offline. \n",
    "# this injects the plotly.js source files into the notebook.\n",
    "init_notebook_mode(connected=True)"
   ]
  },
  {
   "cell_type": "code",
   "execution_count": 8,
   "metadata": {},
   "outputs": [],
   "source": [
    "# building the figure out of its components: data and layout\n",
    "\n",
    "# building the data\n",
    "data = [ dict(\n",
    "        type='choropleth',\n",
    "        # you could define your own scale; I chose not to here\n",
    "        autocolorscale = True,\n",
    "        # 'locations' is your geo variable\n",
    "        locations = gdp_perc_state_df['State'],\n",
    "        locationmode = 'USA-states',\n",
    "        # 'z' is whatever stat feeds the values for the choropleth map\n",
    "        z = gdp_perc_state_df['2017'].astype(float),\n",
    "        # setting the tooltip text\n",
    "        text = gdp_perc_state_df['text'],\n",
    "        marker = dict(\n",
    "            line = dict(\n",
    "                color = 'rgb(255,255,255)',\n",
    "                width = 2\n",
    "            )\n",
    "        ),\n",
    "        colorbar = dict(\n",
    "            title = \"% of GDP\"\n",
    "        )\n",
    ") ]\n",
    "\n",
    "# crafting the layout\n",
    "layout = dict(\n",
    "        title = '% of US GDP by State (2017)',\n",
    "        geo = dict(\n",
    "            scope='usa',\n",
    "            projection=dict( type='albers usa' ),\n",
    "            showlakes = True,\n",
    "            lakecolor = 'rgb(85, 173, 240)')\n",
    ")\n",
    " \n",
    "# compiling the figure\n",
    "fig = dict(data=data, layout=layout)"
   ]
  },
  {
   "cell_type": "code",
   "execution_count": 9,
   "metadata": {},
   "outputs": [
    {
     "data": {
      "application/vnd.plotly.v1+json": {
       "config": {
        "linkText": "Export to plot.ly",
        "plotlyServerURL": "https://plot.ly",
        "showLink": false
       },
       "data": [
        {
         "autocolorscale": true,
         "colorbar": {
          "title": {
           "text": "% of GDP"
          }
         },
         "locationmode": "USA-states",
         "locations": [
          "AL",
          "AK",
          "AZ",
          "AR",
          "CA",
          "CO",
          "CT",
          "DE",
          "DC",
          "FL",
          "GA",
          "HI",
          "ID",
          "IL",
          "IN",
          "IA",
          "KS",
          "KY",
          "LA",
          "ME",
          "MD",
          "MA",
          "MI",
          "MN",
          "MS",
          "MO",
          "MT",
          "NE",
          "NV",
          "NH",
          "NJ",
          "NM",
          "NY",
          "NC",
          "ND",
          "OH",
          "OK",
          "OR",
          "PA",
          "RI",
          "SC",
          "SD",
          "TN",
          "TX",
          "UT",
          "VT",
          "VA",
          "WA",
          "WV",
          "WI",
          "WY"
         ],
         "marker": {
          "line": {
           "color": "rgb(255,255,255)",
           "width": 2
          }
         },
         "text": [
          "Alabama made up 1.1% of US GDP in 2017, ranking at position 26 in terms of % contribution to US GPD.",
          "Alaska made up 0.3% of US GDP in 2017, ranking at position 46 in terms of % contribution to US GPD.",
          "Arizona made up 1.7% of US GDP in 2017, ranking at position 20 in terms of % contribution to US GPD.",
          "Arkansas made up 0.6% of US GDP in 2017, ranking at position 36 in terms of % contribution to US GPD.",
          "California made up 14.4% of US GDP in 2017, ranking at position 1 in terms of % contribution to US GPD.",
          "Colorado made up 1.8% of US GDP in 2017, ranking at position 17 in terms of % contribution to US GPD.",
          "Connecticut made up 1.4% of US GDP in 2017, ranking at position 23 in terms of % contribution to US GPD.",
          "Delaware made up 0.4% of US GDP in 2017, ranking at position 41 in terms of % contribution to US GPD.",
          "District of Columbia made up 0.7% of US GDP in 2017, ranking at position 34 in terms of % contribution to US GPD.",
          "Florida made up 5.0% of US GDP in 2017, ranking at position 4 in terms of % contribution to US GPD.",
          "Georgia made up 2.9% of US GDP in 2017, ranking at position 9 in terms of % contribution to US GPD.",
          "Hawaii made up 0.5% of US GDP in 2017, ranking at position 38 in terms of % contribution to US GPD.",
          "Idaho made up 0.4% of US GDP in 2017, ranking at position 41 in terms of % contribution to US GPD.",
          "Illinois made up 4.2% of US GDP in 2017, ranking at position 5 in terms of % contribution to US GPD.",
          "Indiana made up 1.8% of US GDP in 2017, ranking at position 17 in terms of % contribution to US GPD.",
          "Iowa made up 0.9% of US GDP in 2017, ranking at position 30 in terms of % contribution to US GPD.",
          "Kansas made up 0.8% of US GDP in 2017, ranking at position 32 in terms of % contribution to US GPD.",
          "Kentucky made up 1.0% of US GDP in 2017, ranking at position 28 in terms of % contribution to US GPD.",
          "Louisiana made up 1.2% of US GDP in 2017, ranking at position 24 in terms of % contribution to US GPD.",
          "Maine made up 0.3% of US GDP in 2017, ranking at position 46 in terms of % contribution to US GPD.",
          "Maryland made up 2.1% of US GDP in 2017, ranking at position 15 in terms of % contribution to US GPD.",
          "Massachusetts made up 2.8% of US GDP in 2017, ranking at position 10 in terms of % contribution to US GPD.",
          "Michigan made up 2.6% of US GDP in 2017, ranking at position 13 in terms of % contribution to US GPD.",
          "Minnesota made up 1.8% of US GDP in 2017, ranking at position 17 in terms of % contribution to US GPD.",
          "Mississippi made up 0.6% of US GDP in 2017, ranking at position 36 in terms of % contribution to US GPD.",
          "Missouri made up 1.6% of US GDP in 2017, ranking at position 21 in terms of % contribution to US GPD.",
          "Montana made up 0.2% of US GDP in 2017, ranking at position 50 in terms of % contribution to US GPD.",
          "Nebraska made up 0.6% of US GDP in 2017, ranking at position 36 in terms of % contribution to US GPD.",
          "Nevada made up 0.8% of US GDP in 2017, ranking at position 32 in terms of % contribution to US GPD.",
          "New Hampshire made up 0.4% of US GDP in 2017, ranking at position 41 in terms of % contribution to US GPD.",
          "New Jersey made up 3.1% of US GDP in 2017, ranking at position 8 in terms of % contribution to US GPD.",
          "New Mexico made up 0.5% of US GDP in 2017, ranking at position 38 in terms of % contribution to US GPD.",
          "New York made up 8.2% of US GDP in 2017, ranking at position 3 in terms of % contribution to US GPD.",
          "North Carolina made up 2.8% of US GDP in 2017, ranking at position 10 in terms of % contribution to US GPD.",
          "North Dakota made up 0.3% of US GDP in 2017, ranking at position 46 in terms of % contribution to US GPD.",
          "Ohio made up 3.3% of US GDP in 2017, ranking at position 7 in terms of % contribution to US GPD.",
          "Oklahoma made up 1.0% of US GDP in 2017, ranking at position 28 in terms of % contribution to US GPD.",
          "Oregon made up 1.2% of US GDP in 2017, ranking at position 24 in terms of % contribution to US GPD.",
          "Pennsylvania made up 3.9% of US GDP in 2017, ranking at position 6 in terms of % contribution to US GPD.",
          "Rhode Island made up 0.3% of US GDP in 2017, ranking at position 46 in terms of % contribution to US GPD.",
          "South Carolina made up 1.1% of US GDP in 2017, ranking at position 26 in terms of % contribution to US GPD.",
          "South Dakota made up 0.3% of US GDP in 2017, ranking at position 46 in terms of % contribution to US GPD.",
          "Tennessee made up 1.8% of US GDP in 2017, ranking at position 17 in terms of % contribution to US GPD.",
          "Texas made up 8.4% of US GDP in 2017, ranking at position 2 in terms of % contribution to US GPD.",
          "Utah made up 0.8% of US GDP in 2017, ranking at position 32 in terms of % contribution to US GPD.",
          "Vermont made up 0.2% of US GDP in 2017, ranking at position 50 in terms of % contribution to US GPD.",
          "Virginia made up 2.6% of US GDP in 2017, ranking at position 13 in terms of % contribution to US GPD.",
          "Washington made up 2.7% of US GDP in 2017, ranking at position 12 in terms of % contribution to US GPD.",
          "West Virginia made up 0.4% of US GDP in 2017, ranking at position 41 in terms of % contribution to US GPD.",
          "Wisconsin made up 1.6% of US GDP in 2017, ranking at position 21 in terms of % contribution to US GPD.",
          "Wyoming made up 0.2% of US GDP in 2017, ranking at position 50 in terms of % contribution to US GPD."
         ],
         "type": "choropleth",
         "uid": "ade03166-8bfa-4f5d-b775-9f59f6694673",
         "z": [
          1.1,
          0.3,
          1.7,
          0.6,
          14.4,
          1.8,
          1.4,
          0.4,
          0.7,
          5,
          2.9,
          0.5,
          0.4,
          4.2,
          1.8,
          0.9,
          0.8,
          1,
          1.2,
          0.3,
          2.1,
          2.8,
          2.6,
          1.8,
          0.6,
          1.6,
          0.2,
          0.6,
          0.8,
          0.4,
          3.1,
          0.5,
          8.2,
          2.8,
          0.3,
          3.3,
          1,
          1.2,
          3.9,
          0.3,
          1.1,
          0.3,
          1.8,
          8.4,
          0.8,
          0.2,
          2.6,
          2.7,
          0.4,
          1.6,
          0.2
         ]
        }
       ],
       "layout": {
        "autosize": true,
        "geo": {
         "center": {
          "lat": 37.582700736461724,
          "lon": -96.28489503351763
         },
         "lakecolor": "rgb(85, 173, 240)",
         "projection": {
          "scale": 0.9740042685432445,
          "type": "albers usa"
         },
         "scope": "usa",
         "showlakes": true
        },
        "title": {
         "text": "% of US GDP by State (2017)"
        }
       }
      },
      "image/png": "[encoded data removed]",
      "text/html": [
       "<div id=\"debfeeba-97e8-4823-a402-e130eaf383e5\" style=\"height: 525px; width: 100%;\" class=\"plotly-graph-div\"></div><script type=\"text/javascript\">require([\"plotly\"], function(Plotly) { window.PLOTLYENV=window.PLOTLYENV || {};window.PLOTLYENV.BASE_URL=\"https://plot.ly\";\n",
       "if (document.getElementById(\"debfeeba-97e8-4823-a402-e130eaf383e5\")) {\n",
       "    Plotly.newPlot(\"debfeeba-97e8-4823-a402-e130eaf383e5\", [{\"autocolorscale\": true, \"colorbar\": {\"title\": {\"text\": \"% of GDP\"}}, \"locationmode\": \"USA-states\", \"locations\": [\"AL\", \"AK\", \"AZ\", \"AR\", \"CA\", \"CO\", \"CT\", \"DE\", \"DC\", \"FL\", \"GA\", \"HI\", \"ID\", \"IL\", \"IN\", \"IA\", \"KS\", \"KY\", \"LA\", \"ME\", \"MD\", \"MA\", \"MI\", \"MN\", \"MS\", \"MO\", \"MT\", \"NE\", \"NV\", \"NH\", \"NJ\", \"NM\", \"NY\", \"NC\", \"ND\", \"OH\", \"OK\", \"OR\", \"PA\", \"RI\", \"SC\", \"SD\", \"TN\", \"TX\", \"UT\", \"VT\", \"VA\", \"WA\", \"WV\", \"WI\", \"WY\"], \"marker\": {\"line\": {\"color\": \"rgb(255,255,255)\", \"width\": 2}}, \"text\": [\"Alabama made up 1.1% of US GDP in 2017, ranking at position 26 in terms of % contribution to US GPD.\", \"Alaska made up 0.3% of US GDP in 2017, ranking at position 46 in terms of % contribution to US GPD.\", \"Arizona made up 1.7% of US GDP in 2017, ranking at position 20 in terms of % contribution to US GPD.\", \"Arkansas made up 0.6% of US GDP in 2017, ranking at position 36 in terms of % contribution to US GPD.\", \"California made up 14.4% of US GDP in 2017, ranking at position 1 in terms of % contribution to US GPD.\", \"Colorado made up 1.8% of US GDP in 2017, ranking at position 17 in terms of % contribution to US GPD.\", \"Connecticut made up 1.4% of US GDP in 2017, ranking at position 23 in terms of % contribution to US GPD.\", \"Delaware made up 0.4% of US GDP in 2017, ranking at position 41 in terms of % contribution to US GPD.\", \"District of Columbia made up 0.7% of US GDP in 2017, ranking at position 34 in terms of % contribution to US GPD.\", \"Florida made up 5.0% of US GDP in 2017, ranking at position 4 in terms of % contribution to US GPD.\", \"Georgia made up 2.9% of US GDP in 2017, ranking at position 9 in terms of % contribution to US GPD.\", \"Hawaii made up 0.5% of US GDP in 2017, ranking at position 38 in terms of % contribution to US GPD.\", \"Idaho made up 0.4% of US GDP in 2017, ranking at position 41 in terms of % contribution to US GPD.\", \"Illinois made up 4.2% of US GDP in 2017, ranking at position 5 in terms of % contribution to US GPD.\", \"Indiana made up 1.8% of US GDP in 2017, ranking at position 17 in terms of % contribution to US GPD.\", \"Iowa made up 0.9% of US GDP in 2017, ranking at position 30 in terms of % contribution to US GPD.\", \"Kansas made up 0.8% of US GDP in 2017, ranking at position 32 in terms of % contribution to US GPD.\", \"Kentucky made up 1.0% of US GDP in 2017, ranking at position 28 in terms of % contribution to US GPD.\", \"Louisiana made up 1.2% of US GDP in 2017, ranking at position 24 in terms of % contribution to US GPD.\", \"Maine made up 0.3% of US GDP in 2017, ranking at position 46 in terms of % contribution to US GPD.\", \"Maryland made up 2.1% of US GDP in 2017, ranking at position 15 in terms of % contribution to US GPD.\", \"Massachusetts made up 2.8% of US GDP in 2017, ranking at position 10 in terms of % contribution to US GPD.\", \"Michigan made up 2.6% of US GDP in 2017, ranking at position 13 in terms of % contribution to US GPD.\", \"Minnesota made up 1.8% of US GDP in 2017, ranking at position 17 in terms of % contribution to US GPD.\", \"Mississippi made up 0.6% of US GDP in 2017, ranking at position 36 in terms of % contribution to US GPD.\", \"Missouri made up 1.6% of US GDP in 2017, ranking at position 21 in terms of % contribution to US GPD.\", \"Montana made up 0.2% of US GDP in 2017, ranking at position 50 in terms of % contribution to US GPD.\", \"Nebraska made up 0.6% of US GDP in 2017, ranking at position 36 in terms of % contribution to US GPD.\", \"Nevada made up 0.8% of US GDP in 2017, ranking at position 32 in terms of % contribution to US GPD.\", \"New Hampshire made up 0.4% of US GDP in 2017, ranking at position 41 in terms of % contribution to US GPD.\", \"New Jersey made up 3.1% of US GDP in 2017, ranking at position 8 in terms of % contribution to US GPD.\", \"New Mexico made up 0.5% of US GDP in 2017, ranking at position 38 in terms of % contribution to US GPD.\", \"New York made up 8.2% of US GDP in 2017, ranking at position 3 in terms of % contribution to US GPD.\", \"North Carolina made up 2.8% of US GDP in 2017, ranking at position 10 in terms of % contribution to US GPD.\", \"North Dakota made up 0.3% of US GDP in 2017, ranking at position 46 in terms of % contribution to US GPD.\", \"Ohio made up 3.3% of US GDP in 2017, ranking at position 7 in terms of % contribution to US GPD.\", \"Oklahoma made up 1.0% of US GDP in 2017, ranking at position 28 in terms of % contribution to US GPD.\", \"Oregon made up 1.2% of US GDP in 2017, ranking at position 24 in terms of % contribution to US GPD.\", \"Pennsylvania made up 3.9% of US GDP in 2017, ranking at position 6 in terms of % contribution to US GPD.\", \"Rhode Island made up 0.3% of US GDP in 2017, ranking at position 46 in terms of % contribution to US GPD.\", \"South Carolina made up 1.1% of US GDP in 2017, ranking at position 26 in terms of % contribution to US GPD.\", \"South Dakota made up 0.3% of US GDP in 2017, ranking at position 46 in terms of % contribution to US GPD.\", \"Tennessee made up 1.8% of US GDP in 2017, ranking at position 17 in terms of % contribution to US GPD.\", \"Texas made up 8.4% of US GDP in 2017, ranking at position 2 in terms of % contribution to US GPD.\", \"Utah made up 0.8% of US GDP in 2017, ranking at position 32 in terms of % contribution to US GPD.\", \"Vermont made up 0.2% of US GDP in 2017, ranking at position 50 in terms of % contribution to US GPD.\", \"Virginia made up 2.6% of US GDP in 2017, ranking at position 13 in terms of % contribution to US GPD.\", \"Washington made up 2.7% of US GDP in 2017, ranking at position 12 in terms of % contribution to US GPD.\", \"West Virginia made up 0.4% of US GDP in 2017, ranking at position 41 in terms of % contribution to US GPD.\", \"Wisconsin made up 1.6% of US GDP in 2017, ranking at position 21 in terms of % contribution to US GPD.\", \"Wyoming made up 0.2% of US GDP in 2017, ranking at position 50 in terms of % contribution to US GPD.\"], \"z\": [1.1, 0.3, 1.7, 0.6, 14.4, 1.8, 1.4, 0.4, 0.7, 5.0, 2.9, 0.5, 0.4, 4.2, 1.8, 0.9, 0.8, 1.0, 1.2, 0.3, 2.1, 2.8, 2.6, 1.8, 0.6, 1.6, 0.2, 0.6, 0.8, 0.4, 3.1, 0.5, 8.2, 2.8, 0.3, 3.3, 1.0, 1.2, 3.9, 0.3, 1.1, 0.3, 1.8, 8.4, 0.8, 0.2, 2.6, 2.7, 0.4, 1.6, 0.2], \"type\": \"choropleth\", \"uid\": \"48cf48d8-dadf-4a8c-8582-0209f1fb4004\"}], {\"geo\": {\"lakecolor\": \"rgb(85, 173, 240)\", \"projection\": {\"type\": \"albers usa\"}, \"scope\": \"usa\", \"showlakes\": true}, \"title\": {\"text\": \"% of US GDP by State (2017)\"}}, {\"showLink\": false, \"linkText\": \"Export to plot.ly\", \"plotlyServerURL\": \"https://plot.ly\"}); \n",
       "}\n",
       "});</script><script type=\"text/javascript\">window.addEventListener(\"resize\", function(){if (document.getElementById(\"debfeeba-97e8-4823-a402-e130eaf383e5\")) {window._Plotly.Plots.resize(document.getElementById(\"debfeeba-97e8-4823-a402-e130eaf383e5\"));};})</script>"
      ],
      "text/vnd.plotly.v1+html": [
       "<div id=\"debfeeba-97e8-4823-a402-e130eaf383e5\" style=\"height: 525px; width: 100%;\" class=\"plotly-graph-div\"></div><script type=\"text/javascript\">require([\"plotly\"], function(Plotly) { window.PLOTLYENV=window.PLOTLYENV || {};window.PLOTLYENV.BASE_URL=\"https://plot.ly\";\n",
       "if (document.getElementById(\"debfeeba-97e8-4823-a402-e130eaf383e5\")) {\n",
       "    Plotly.newPlot(\"debfeeba-97e8-4823-a402-e130eaf383e5\", [{\"autocolorscale\": true, \"colorbar\": {\"title\": {\"text\": \"% of GDP\"}}, \"locationmode\": \"USA-states\", \"locations\": [\"AL\", \"AK\", \"AZ\", \"AR\", \"CA\", \"CO\", \"CT\", \"DE\", \"DC\", \"FL\", \"GA\", \"HI\", \"ID\", \"IL\", \"IN\", \"IA\", \"KS\", \"KY\", \"LA\", \"ME\", \"MD\", \"MA\", \"MI\", \"MN\", \"MS\", \"MO\", \"MT\", \"NE\", \"NV\", \"NH\", \"NJ\", \"NM\", \"NY\", \"NC\", \"ND\", \"OH\", \"OK\", \"OR\", \"PA\", \"RI\", \"SC\", \"SD\", \"TN\", \"TX\", \"UT\", \"VT\", \"VA\", \"WA\", \"WV\", \"WI\", \"WY\"], \"marker\": {\"line\": {\"color\": \"rgb(255,255,255)\", \"width\": 2}}, \"text\": [\"Alabama made up 1.1% of US GDP in 2017, ranking at position 26 in terms of % contribution to US GPD.\", \"Alaska made up 0.3% of US GDP in 2017, ranking at position 46 in terms of % contribution to US GPD.\", \"Arizona made up 1.7% of US GDP in 2017, ranking at position 20 in terms of % contribution to US GPD.\", \"Arkansas made up 0.6% of US GDP in 2017, ranking at position 36 in terms of % contribution to US GPD.\", \"California made up 14.4% of US GDP in 2017, ranking at position 1 in terms of % contribution to US GPD.\", \"Colorado made up 1.8% of US GDP in 2017, ranking at position 17 in terms of % contribution to US GPD.\", \"Connecticut made up 1.4% of US GDP in 2017, ranking at position 23 in terms of % contribution to US GPD.\", \"Delaware made up 0.4% of US GDP in 2017, ranking at position 41 in terms of % contribution to US GPD.\", \"District of Columbia made up 0.7% of US GDP in 2017, ranking at position 34 in terms of % contribution to US GPD.\", \"Florida made up 5.0% of US GDP in 2017, ranking at position 4 in terms of % contribution to US GPD.\", \"Georgia made up 2.9% of US GDP in 2017, ranking at position 9 in terms of % contribution to US GPD.\", \"Hawaii made up 0.5% of US GDP in 2017, ranking at position 38 in terms of % contribution to US GPD.\", \"Idaho made up 0.4% of US GDP in 2017, ranking at position 41 in terms of % contribution to US GPD.\", \"Illinois made up 4.2% of US GDP in 2017, ranking at position 5 in terms of % contribution to US GPD.\", \"Indiana made up 1.8% of US GDP in 2017, ranking at position 17 in terms of % contribution to US GPD.\", \"Iowa made up 0.9% of US GDP in 2017, ranking at position 30 in terms of % contribution to US GPD.\", \"Kansas made up 0.8% of US GDP in 2017, ranking at position 32 in terms of % contribution to US GPD.\", \"Kentucky made up 1.0% of US GDP in 2017, ranking at position 28 in terms of % contribution to US GPD.\", \"Louisiana made up 1.2% of US GDP in 2017, ranking at position 24 in terms of % contribution to US GPD.\", \"Maine made up 0.3% of US GDP in 2017, ranking at position 46 in terms of % contribution to US GPD.\", \"Maryland made up 2.1% of US GDP in 2017, ranking at position 15 in terms of % contribution to US GPD.\", \"Massachusetts made up 2.8% of US GDP in 2017, ranking at position 10 in terms of % contribution to US GPD.\", \"Michigan made up 2.6% of US GDP in 2017, ranking at position 13 in terms of % contribution to US GPD.\", \"Minnesota made up 1.8% of US GDP in 2017, ranking at position 17 in terms of % contribution to US GPD.\", \"Mississippi made up 0.6% of US GDP in 2017, ranking at position 36 in terms of % contribution to US GPD.\", \"Missouri made up 1.6% of US GDP in 2017, ranking at position 21 in terms of % contribution to US GPD.\", \"Montana made up 0.2% of US GDP in 2017, ranking at position 50 in terms of % contribution to US GPD.\", \"Nebraska made up 0.6% of US GDP in 2017, ranking at position 36 in terms of % contribution to US GPD.\", \"Nevada made up 0.8% of US GDP in 2017, ranking at position 32 in terms of % contribution to US GPD.\", \"New Hampshire made up 0.4% of US GDP in 2017, ranking at position 41 in terms of % contribution to US GPD.\", \"New Jersey made up 3.1% of US GDP in 2017, ranking at position 8 in terms of % contribution to US GPD.\", \"New Mexico made up 0.5% of US GDP in 2017, ranking at position 38 in terms of % contribution to US GPD.\", \"New York made up 8.2% of US GDP in 2017, ranking at position 3 in terms of % contribution to US GPD.\", \"North Carolina made up 2.8% of US GDP in 2017, ranking at position 10 in terms of % contribution to US GPD.\", \"North Dakota made up 0.3% of US GDP in 2017, ranking at position 46 in terms of % contribution to US GPD.\", \"Ohio made up 3.3% of US GDP in 2017, ranking at position 7 in terms of % contribution to US GPD.\", \"Oklahoma made up 1.0% of US GDP in 2017, ranking at position 28 in terms of % contribution to US GPD.\", \"Oregon made up 1.2% of US GDP in 2017, ranking at position 24 in terms of % contribution to US GPD.\", \"Pennsylvania made up 3.9% of US GDP in 2017, ranking at position 6 in terms of % contribution to US GPD.\", \"Rhode Island made up 0.3% of US GDP in 2017, ranking at position 46 in terms of % contribution to US GPD.\", \"South Carolina made up 1.1% of US GDP in 2017, ranking at position 26 in terms of % contribution to US GPD.\", \"South Dakota made up 0.3% of US GDP in 2017, ranking at position 46 in terms of % contribution to US GPD.\", \"Tennessee made up 1.8% of US GDP in 2017, ranking at position 17 in terms of % contribution to US GPD.\", \"Texas made up 8.4% of US GDP in 2017, ranking at position 2 in terms of % contribution to US GPD.\", \"Utah made up 0.8% of US GDP in 2017, ranking at position 32 in terms of % contribution to US GPD.\", \"Vermont made up 0.2% of US GDP in 2017, ranking at position 50 in terms of % contribution to US GPD.\", \"Virginia made up 2.6% of US GDP in 2017, ranking at position 13 in terms of % contribution to US GPD.\", \"Washington made up 2.7% of US GDP in 2017, ranking at position 12 in terms of % contribution to US GPD.\", \"West Virginia made up 0.4% of US GDP in 2017, ranking at position 41 in terms of % contribution to US GPD.\", \"Wisconsin made up 1.6% of US GDP in 2017, ranking at position 21 in terms of % contribution to US GPD.\", \"Wyoming made up 0.2% of US GDP in 2017, ranking at position 50 in terms of % contribution to US GPD.\"], \"z\": [1.1, 0.3, 1.7, 0.6, 14.4, 1.8, 1.4, 0.4, 0.7, 5.0, 2.9, 0.5, 0.4, 4.2, 1.8, 0.9, 0.8, 1.0, 1.2, 0.3, 2.1, 2.8, 2.6, 1.8, 0.6, 1.6, 0.2, 0.6, 0.8, 0.4, 3.1, 0.5, 8.2, 2.8, 0.3, 3.3, 1.0, 1.2, 3.9, 0.3, 1.1, 0.3, 1.8, 8.4, 0.8, 0.2, 2.6, 2.7, 0.4, 1.6, 0.2], \"type\": \"choropleth\", \"uid\": \"48cf48d8-dadf-4a8c-8582-0209f1fb4004\"}], {\"geo\": {\"lakecolor\": \"rgb(85, 173, 240)\", \"projection\": {\"type\": \"albers usa\"}, \"scope\": \"usa\", \"showlakes\": true}, \"title\": {\"text\": \"% of US GDP by State (2017)\"}}, {\"showLink\": false, \"linkText\": \"Export to plot.ly\", \"plotlyServerURL\": \"https://plot.ly\"}); \n",
       "}\n",
       "});</script><script type=\"text/javascript\">window.addEventListener(\"resize\", function(){if (document.getElementById(\"debfeeba-97e8-4823-a402-e130eaf383e5\")) {window._Plotly.Plots.resize(document.getElementById(\"debfeeba-97e8-4823-a402-e130eaf383e5\"));};})</script>"
      ]
     },
     "metadata": {},
     "output_type": "display_data"
    }
   ],
   "source": [
    "# using iplot to display in the jupyter notebook\n",
    "# if you're reading this on GitHub this won't display\n",
    "# check the \"output_viz\" folder in this directory on GitHub to see the saved viz\n",
    "iplot(fig, filename='us_states_gdp_map.html' )"
   ]
  },
  {
   "cell_type": "code",
   "execution_count": 10,
   "metadata": {},
   "outputs": [
    {
     "data": {
      "text/plain": [
       "'file:///Users/pauljeffries/Desktop/personal/personal_code/data-science-toolkit/eda-and-visualization/output_viz/us_states_gdp_map.html'"
      ]
     },
     "execution_count": 10,
     "metadata": {},
     "output_type": "execute_result"
    }
   ],
   "source": [
    "# using plot to save locally and open in new tab\n",
    "plot(fig, filename='output_viz/us_states_gdp_map.html' )"
   ]
  },
  {
   "cell_type": "code",
   "execution_count": null,
   "metadata": {},
   "outputs": [],
   "source": []
  }
 ],
 "metadata": {
  "kernelspec": {
   "display_name": "Python 3",
   "language": "python",
   "name": "python3"
  },
  "language_info": {
   "codemirror_mode": {
    "name": "ipython",
    "version": 3
   },
   "file_extension": ".py",
   "mimetype": "text/x-python",
   "name": "python",
   "nbconvert_exporter": "python",
   "pygments_lexer": "ipython3",
   "version": "3.7.0"
  }
 },
 "nbformat": 4,
 "nbformat_minor": 2
}
