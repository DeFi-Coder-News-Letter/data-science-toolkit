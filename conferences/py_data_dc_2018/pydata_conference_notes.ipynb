{
 "cells": [
  {
   "cell_type": "markdown",
   "metadata": {},
   "source": [
    "# PyData DC Conference\n",
    "Friday November 16th, 2018\n",
    "\n",
    "Hi there! The notes below are my scribblings from my time at the Friday tutorial portion of the [2018 DC PyData Conference,](https://pydata.org/dc2018/) hosted at Capital One's HQ in McLean, VA. There were 4 timeslots for sessions peppered throughout the day, with 2 sessions from which to choose during each timeslot. As such, I was only able to attend 4/8 total sessions. For the complete schedule (so you can see what I missed) check out the [full schedule for the day here](https://pydata.org/dc2018/schedule/). If you are reading this and you were able to attend some of the sessions not covered below, feel free to reach out via the Issues tab above so that any notes you took may can be itegrated as well. \n",
    "\n",
    "I recommend reading this write-up about the conference once-through, and thereafter jumping to the different notebooks, files, and folders I mention throughout for more information about particular sessions. In some cases, the particular session came with a notebook pre-populated with all the code needed to follow along, whereas in other cases, the code was all done on the fly. In either case, I include links to all pertinent content under the corresponding subsections below, and in many cases have added my own alterations / notes to the content presented. This is almost always to clarify something in the code, fix a problem that came up during the live demo, or simply take note of something helpful that was said during the session but not included in the code or mentioned in the comments (if any were provided). \n",
    "\n",
    "All credit goes the original presenters--it was a great conference--enjoy!"
   ]
  },
  {
   "cell_type": "markdown",
   "metadata": {},
   "source": [
    "## 1 - Recreating, Understanding, and Visualizing FiveThirtyEight's Forecast \n",
    "Presenters: Joseph Nelson, Matt Brems"
   ]
  },
  {
   "cell_type": "markdown",
   "metadata": {},
   "source": [
    "### Notes\n",
    "\n",
    "The code and associated info for the talk can be found [on Joseph's GitHub here.](https://github.com/josephofiowa/pydata-dc-2018)\n",
    "\n",
    "How do you forecast (generally)?\n",
    "\n",
    "1. Brainstorm causal variables.\n",
    "    - This is informed by domain knowledge.\n",
    "2. Break the problem into achievable bits\n",
    "    - 538 example: 1 big model that includes polling, but polling is a function of another model (the pollster ratings).\n",
    "3. Collect, clean data\n",
    "4. Test \n",
    "    - Build a model and see how it does.\n",
    "5. Accept that \"done\" is better than perfect\n",
    "\n",
    "This session was the only session during which I did not add to any of the pre-packaged code, as we just ran through two notebooks that were already complete and commented. As such, there is no difference between my cloned versions of the notebooks, and those under Joseph's aforementioned GitHub. That said, links to both are provided for convenience below.\n",
    "\n",
    "- [notebook that covers the bayesian stats portion of the election forecast](https://github.com/pmaji/data-science-toolkit/blob/master/conferences/py_data_dc_2018/elections_forecast_538/bayes-walkthrough.ipynb)\n",
    "- [notebook that covers that viz and Bokeh app used to display election results](https://github.com/pmaji/data-science-toolkit/blob/master/conferences/py_data_dc_2018/elections_forecast_538/senate_dashboard.ipynb)"
   ]
  },
  {
   "cell_type": "markdown",
   "metadata": {},
   "source": [
    "## 2 - Building a recommender system from scratch \n",
    "Presenter: Jill Cates"
   ]
  },
  {
   "cell_type": "markdown",
   "metadata": {},
   "source": [
    "### Notes\n",
    "\n",
    "The code for the talk can be found [on Jill's GitHub here.](https://github.com/topspinj/pydata-workshop)\n",
    "\n",
    "1. Sometimes less is more.\n",
    "    - Stanford / Columbia study showing that fewer choices of samples of jam led to more conversions.\n",
    "2. Two types of recommender systems:\n",
    "    - Collaborative Filtering:\n",
    "        - Makes use of user feedback (either explicit or implicit)\n",
    "        - Using a user feedback score (dwell time, frequency of interactions)\n",
    "    - Content-based Filtering:\n",
    "        - Kind of like hedonic regression. Includes user features and item features (gender, age, etc.)\n",
    "\n",
    "Turn to [the Jupyter notebook that have included here](https://github.com/pmaji/data-science-toolkit/blob/master/conferences/py_data_dc_2018/building_recommender_system/tutorial.ipynb) for the rest of the content and notes. It is almost identical to the version presented by Jill the day of the presentation, with a few small changes / additions to handle for an error that came up during the live code walkthrough. "
   ]
  },
  {
   "cell_type": "markdown",
   "metadata": {},
   "source": [
    "## 3 - Cleaning and Tidying Data in Pandas\n",
    "Presenter: Daniel Chen \n",
    "    \n",
    "### Notes\n",
    "\n",
    "This talk did not come with a pre-prepared notebook, but there was a notes handout [which can be found here.](https://pydata.org/dc2018/schedule/presentation/37/) \n",
    "\n",
    "The GitHub repo that contains all of the [initial data and code can be found here](https://github.com/chendaniely/pydatadc_2018-tidy). \n",
    "\n",
    "Check out the [Jupyter Notebook that I used to follow along with Daniel's live coding here](https://github.com/pmaji/data-science-toolkit/blob/master/conferences/py_data_dc_2018/tidy_data/notebooks/live_code_walkthrough.ipynb), which includes some call-outs  for useful functions and best practices when using pandas that might not be immediately intuitive."
   ]
  },
  {
   "cell_type": "markdown",
   "metadata": {},
   "source": [
    "## 4 - Web Scraping with Beautiful Soup\n",
    "Presenter: Monica Puerto \n",
    "    \n",
    "### Notes\n",
    "\n",
    "The code for the talk as well as her full presentation can be [found on Monica's GitHub here](https://github.com/monipip3/wwcdc/tree/master/webscraping). \n",
    "\n",
    "The code on her GitHub is located in 2 .py files, but during her live presentation, I coded up a jupyter notebook equivalent with some additional commentary, [which can be found here for anyone interested](https://github.com/pmaji/data-science-toolkit/blob/master/conferences/py_data_dc_2018/webscraping_beautiful_soup/beautiful_soup_scraping_demo.ipynb). "
   ]
  }
 ],
 "metadata": {
  "kernelspec": {
   "display_name": "Python 3",
   "language": "python",
   "name": "python3"
  },
  "language_info": {
   "codemirror_mode": {
    "name": "ipython",
    "version": 3
   },
   "file_extension": ".py",
   "mimetype": "text/x-python",
   "name": "python",
   "nbconvert_exporter": "python",
   "pygments_lexer": "ipython3",
   "version": "3.6.3"
  }
 },
 "nbformat": 4,
 "nbformat_minor": 2
}
