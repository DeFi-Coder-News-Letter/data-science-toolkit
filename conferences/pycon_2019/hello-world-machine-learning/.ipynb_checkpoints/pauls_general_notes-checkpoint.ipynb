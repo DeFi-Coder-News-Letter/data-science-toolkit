{
 "cells": [
  {
   "cell_type": "markdown",
   "metadata": {},
   "source": [
    "# Paul's Notes \n",
    "\n",
    "## Introduction\n",
    "\n",
    "Machine learning is part of artificial intelligence, and deep learning is part of machine learning. Imagine a series of concentric cirlces that are entirely self-contained, with the outer-most being A.I., which subsumes M.L., which subsumes D.L.\n",
    "\n",
    "### Machine Learning Algos\n",
    "\n",
    "**Supervised:**\n",
    "- Regression\n",
    "- Classification\n",
    "- Labels provided.\n",
    "\n",
    "**Unsupervised:**\n",
    "- Clustering\n",
    "- Labels not provided.\n",
    "\n",
    "**Reinforcement:**\n",
    "- Reward-based"
   ]
  },
  {
   "cell_type": "code",
   "execution_count": 1,
   "metadata": {},
   "outputs": [],
   "source": []
  },
  {
   "cell_type": "code",
   "execution_count": null,
   "metadata": {},
   "outputs": [],
   "source": []
  },
  {
   "cell_type": "code",
   "execution_count": null,
   "metadata": {},
   "outputs": [],
   "source": []
  }
 ],
 "metadata": {
  "kernelspec": {
   "display_name": "Python 3",
   "language": "python",
   "name": "python3"
  },
  "language_info": {
   "codemirror_mode": {
    "name": "ipython",
    "version": 3
   },
   "file_extension": ".py",
   "mimetype": "text/x-python",
   "name": "python",
   "nbconvert_exporter": "python",
   "pygments_lexer": "ipython3",
   "version": "3.7.0"
  }
 },
 "nbformat": 4,
 "nbformat_minor": 2
}
