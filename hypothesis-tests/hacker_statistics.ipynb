{
 "cells": [
  {
   "cell_type": "markdown",
   "metadata": {},
   "source": [
    "# Hacker Statistics\n",
    "by: Paul Jeffries\n",
    "\n",
    "This code was adapted in large part from this DataCamp course in the Python Data Scientist track, but was inspired mostly by [Jake Vanderplas' excellent PyCon 2016 talk--Statistics for Hackers](https://www.youtube.com/watch?v=Iq9DzN6mvYA). In his talk, which I highly recommend to anyone not familiar with what is meant by \"hacker statistics,\" Jake dives into the \"four recipes for hacking statistics\":\n",
    "\n",
    "Note: All of these methods assume independent and identically distributed data, and sometimes dependence can be really subtle--so be careful with this!\n",
    "\n",
    "1. Direct Simulation\n",
    "    - Great if we have an *a priori* understanding of the underlying generating model for the data and we can similuate that process end-to-end (like checking to see if a coin is a fair coin).\n",
    "2. Shuffling\n",
    "    - Great if we don't have an understanding of the underlying generating model for the data and we want to compare one group to another group (like checking differences in test scores between two groups). \n",
    "3. Bootsrapping\n",
    "    - Also great if we don't have an understanding of the underlying generating model for the data and we want to better understand some statistic for a population (like trying to establish a confidence interval around a mean).\n",
    "    - Works poorly with low sample sizes (N > 20 as good rule of thumb) or with cases where the target statistic is rank-based (like maximum value). \n",
    "4. Cross Validation\n",
    "    - Most often used with machine learning & model-building because it's useful for cases/models where you can't really examine / compare the statistical distribution of the results. \n"
   ]
  },
  {
   "cell_type": "code",
   "execution_count": 1,
   "metadata": {},
   "outputs": [
    {
     "name": "stdout",
     "output_type": "stream",
     "text": [
      "Last Updated On:  2018-11-22\n"
     ]
    }
   ],
   "source": [
    "import datetime\n",
    "print('Last Updated On: ', datetime.datetime.today().strftime('%Y-%m-%d'))"
   ]
  },
  {
   "cell_type": "code",
   "execution_count": 2,
   "metadata": {},
   "outputs": [],
   "source": [
    "# key packages\n",
    "import pandas as pd\n",
    "import numpy as np\n",
    "import matplotlib.pyplot as plt"
   ]
  },
  {
   "cell_type": "code",
   "execution_count": 3,
   "metadata": {},
   "outputs": [],
   "source": [
    "# basic setup steps\n",
    "\n",
    "# prints the present working directory (helpful for sourcing the CSVs later)\n",
    "%pwd\n",
    "\n",
    "# setting seed for any functions that require randomization (for repeatability)\n",
    "np.random.seed(123)"
   ]
  },
  {
   "cell_type": "markdown",
   "metadata": {},
   "source": [
    "## Bootstrap Sampling and Bootstrap Replicates"
   ]
  },
  {
   "cell_type": "code",
   "execution_count": 4,
   "metadata": {},
   "outputs": [
    {
     "name": "stdout",
     "output_type": "stream",
     "text": [
      "    mpg  cylinders  displacement  horsepower  weight  acceleration  \\\n",
      "0  18.0          8         307.0       130.0    3504          12.0   \n",
      "1  15.0          8         350.0       165.0    3693          11.5   \n",
      "2  18.0          8         318.0       150.0    3436          11.0   \n",
      "3  16.0          8         304.0       150.0    3433          12.0   \n",
      "4  17.0          8         302.0       140.0    3449          10.5   \n",
      "\n",
      "   model year  origin                   car name  \n",
      "0          70       1  chevrolet chevelle malibu  \n",
      "1          70       1          buick skylark 320  \n",
      "2          70       1         plymouth satellite  \n",
      "3          70       1              amc rebel sst  \n",
      "4          70       1                ford torino  \n"
     ]
    }
   ],
   "source": [
    "# import the dataset from csv into a pandas df\n",
    "# specify that there are NAs in the data that take the value '?'\n",
    "projects_df = pd.read_csv('data/auto-mpg.csv', na_values='?')\n",
    "\n",
    "# print the head of the df to inspect what we imported\n",
    "print(projects_df.head())"
   ]
  },
  {
   "cell_type": "code",
   "execution_count": 5,
   "metadata": {},
   "outputs": [
    {
     "name": "stdout",
     "output_type": "stream",
     "text": [
      "<class 'pandas.core.frame.DataFrame'>\n",
      "RangeIndex: 398 entries, 0 to 397\n",
      "Data columns (total 9 columns):\n",
      "mpg             398 non-null float64\n",
      "cylinders       398 non-null int64\n",
      "displacement    398 non-null float64\n",
      "horsepower      392 non-null float64\n",
      "weight          398 non-null int64\n",
      "acceleration    398 non-null float64\n",
      "model year      398 non-null int64\n",
      "origin          398 non-null int64\n",
      "car name        398 non-null object\n",
      "dtypes: float64(4), int64(4), object(1)\n",
      "memory usage: 28.1+ KB\n",
      "None\n"
     ]
    }
   ],
   "source": [
    "# now we'll go beyond a visual spot check to examine the df\n",
    "print(projects_df.info())"
   ]
  },
  {
   "cell_type": "code",
   "execution_count": 6,
   "metadata": {},
   "outputs": [
    {
     "name": "stdout",
     "output_type": "stream",
     "text": [
      "<class 'pandas.core.frame.DataFrame'>\n",
      "Int64Index: 392 entries, 0 to 397\n",
      "Data columns (total 2 columns):\n",
      "mpg           392 non-null float64\n",
      "horsepower    392 non-null float64\n",
      "dtypes: float64(2)\n",
      "memory usage: 9.2 KB\n",
      "None\n"
     ]
    }
   ],
   "source": [
    "# it looks from the initial df.info() that 'horsepower' has 6 NULLs, so we'll clean those up\n",
    "# we'll subset the df to the columns we care about, drop NAs, and inspect\n",
    "projects_df = projects_df.loc[:,['mpg','horsepower']].dropna()\n",
    "print(projects_df.info())"
   ]
  },
  {
   "cell_type": "code",
   "execution_count": 7,
   "metadata": {},
   "outputs": [],
   "source": [
    "# now it looks like we've cleaned up all the nulls; our df is clean and gtg\n",
    "\n",
    "# we'll pick just two columns--'mpg' and 'horsepower'--for our bootstrapping\n",
    "# breaking them out into separate Pandas series will help us out later \n",
    "mpg_cleaned = projects_df['mpg']\n",
    "horsepower_cleaned = projects_df['horsepower']"
   ]
  },
  {
   "cell_type": "code",
   "execution_count": 8,
   "metadata": {},
   "outputs": [
    {
     "name": "stdout",
     "output_type": "stream",
     "text": [
      "The total number of observations in this data is: 392\n",
      "There are a total of 0 nulls in mpg_cleaned.\n",
      "The total number of observations in this data is: 392\n",
      "There are a total of 0 nulls in for horsepower_cleaned.\n"
     ]
    }
   ],
   "source": [
    "# before boostrapping, we should do some quick data quality checks\n",
    "print(\"The total number of observations in this data is:\", len(mpg_cleaned))\n",
    "print(\"There are a total of\", (len(mpg_cleaned) - len(mpg_cleaned.dropna())), \"nulls in mpg_cleaned.\")\n",
    "\n",
    "print(\"The total number of observations in this data is:\", len(horsepower_cleaned))\n",
    "print(\"There are a total of\", (len(horsepower_cleaned) - len(horsepower_cleaned.dropna())), \"nulls in for horsepower_cleaned.\")\n",
    "# in this case we're good to proceed with our analysis"
   ]
  },
  {
   "cell_type": "markdown",
   "metadata": {},
   "source": [
    "### Single Variable Boostrapping (1-Dimension)"
   ]
  },
  {
   "cell_type": "code",
   "execution_count": 9,
   "metadata": {},
   "outputs": [],
   "source": [
    "def bootstrap_replicate_1d(data,func,n_obs_to_sample=100):\n",
    "    \"\"\"Generate boostrap replicate of 1-Dimension data given\n",
    "    a series, a function for which to retrieve a replicate (for\n",
    "    example np.mean), and the number of observations to sample.\"\"\"\n",
    "    \n",
    "    # randomly draw numb_obs_to_sample observations (with replacement) from data\n",
    "    bs_sample = np.random.choice(data, size=n_obs_to_sample, replace=True)\n",
    "    \n",
    "    # returns the result of the function chosen applied tothe sampled observations\n",
    "    return func(bs_sample)"
   ]
  },
  {
   "cell_type": "code",
   "execution_count": 10,
   "metadata": {},
   "outputs": [],
   "source": [
    "def draw_bs_reps(data, func, n_obs_to_sample, n_reps_to_draw=1):\n",
    "    \"\"\"Draw n_reps_to_draw bootstrap replicates using boostrap_replicate_1d.\"\"\"\n",
    "\n",
    "    # initialize empty array to store replicates: bs_replicates\n",
    "    bs_replicates = np.empty(n_reps_to_draw)\n",
    "\n",
    "    # generate and store i replicates\n",
    "    for i in range(n_reps_to_draw):\n",
    "        bs_replicates[i] = bootstrap_replicate_1d(data, func, n_obs_to_sample)\n",
    "\n",
    "    # returns numpy array of all boostrap replicates drawn\n",
    "    return bs_replicates"
   ]
  },
  {
   "cell_type": "code",
   "execution_count": 11,
   "metadata": {},
   "outputs": [
    {
     "name": "stdout",
     "output_type": "stream",
     "text": [
      "The standard error of the mean (SEM) of mpg_cleand is: 0.39370926560373704\n",
      "The standard deviation of the boostrap replicates drawn is: 0.394762542881384\n"
     ]
    }
   ],
   "source": [
    "# take 10,000 bootstrap replicates of the mean: bs_replicates\n",
    "bs_replicates = draw_bs_reps(\n",
    "    data = mpg_cleaned, \n",
    "    func = np.mean, \n",
    "    n_obs_to_sample=len(mpg_cleaned), \n",
    "    n_reps_to_draw=10_000)\n",
    "\n",
    "# compute and print the standard error of the mean (SEM)\n",
    "sem = np.std(mpg_cleaned) / np.sqrt(len(mpg_cleaned))\n",
    "print(\"The standard error of the mean (SEM) of mpg_cleand is:\", sem)\n",
    "\n",
    "# compute and print standard deviation of bootstrap replicates\n",
    "bs_std = np.std(bs_replicates)\n",
    "print(\"The standard deviation of the boostrap replicates drawn is:\", bs_std)"
   ]
  },
  {
   "cell_type": "code",
   "execution_count": 12,
   "metadata": {},
   "outputs": [
    {
     "data": {
      "image/png": "[encoded data removed]",
      "text/plain": [
       "<Figure size 432x288 with 1 Axes>"
      ]
     },
     "metadata": {
      "needs_background": "light"
     },
     "output_type": "display_data"
    }
   ],
   "source": [
    "# make a histogram of the results of the bs replicates for the mean of mpg_cleaned\n",
    "_ = plt.hist(bs_replicates, bins=50, density=True)\n",
    "_ = plt.xlabel('mean annual rainfall (mm)')\n",
    "_ = plt.ylabel('PDF')\n",
    "\n",
    "# show the plot\n",
    "plt.show()"
   ]
  },
  {
   "cell_type": "code",
   "execution_count": 13,
   "metadata": {},
   "outputs": [
    {
     "name": "stdout",
     "output_type": "stream",
     "text": [
      "The 95% confidence interval is between 22.7 and 24.2 mpg.\n"
     ]
    }
   ],
   "source": [
    "# get the confidence bands based on our boostrapped replicates\n",
    "# the percentiles below amount to our confidence interval bounds\n",
    "conf_int = np.percentile(bs_replicates,[2.5,97.5])\n",
    "\n",
    "# now we can print the confidence interval, with bounds rounded to nearest tenth\n",
    "print(\"The 95% confidence interval is between\", conf_int[0].round(1), \"and\", conf_int[1].round(1),\"mpg.\")"
   ]
  },
  {
   "cell_type": "markdown",
   "metadata": {},
   "source": [
    "### Pairs Boostrapping (2-Dimensions)\n",
    "\n",
    "This is broadly similar to the methodology expounded above for drawing bootsrap replicates from 1-dimensional data, except now we'll extend this to work with pairs of data points."
   ]
  },
  {
   "cell_type": "code",
   "execution_count": 14,
   "metadata": {},
   "outputs": [],
   "source": [
    "def draw_bs_pairs_linreg(x, y, size=1):\n",
    "    \"\"\"Perform pairs bootstrap for linear regression.\"\"\"\n",
    "\n",
    "    # set up array of indices to sample from: inds\n",
    "    # because we're drawing from paired columns, we need to sample using the index\n",
    "    inds = np.arange(len(x))\n",
    "\n",
    "    # initialize placeholders for replicates: bs_slope_reps, bs_intercept_reps\n",
    "    bs_slope_reps = np.empty(size)\n",
    "    bs_intercept_reps = np.empty(size)\n",
    "\n",
    "    # generate replicates\n",
    "    for i in range(size):\n",
    "        # randomly sample indexes (w/ replacement) \n",
    "        bs_inds = np.random.choice(inds, size=len(inds), replace=True)\n",
    "        # use the randomly selected index to draw boostrap samples of x and y\n",
    "        bs_x, bs_y = x[bs_inds], y[bs_inds]\n",
    "        # use the bs samples to calculate bs reps for slope and intercept of linreg line\n",
    "        bs_slope_reps[i], bs_intercept_reps[i] = np.polyfit(x = bs_x, y=bs_y, deg=1)\n",
    "    \n",
    "    # return the slope and intercept boostrap replicates\n",
    "    return bs_slope_reps, bs_intercept_reps"
   ]
  },
  {
   "cell_type": "code",
   "execution_count": 15,
   "metadata": {},
   "outputs": [],
   "source": [
    "# generate 1000 replicates of slope and intercept using pairs bootstrap\n",
    "bs_slope_reps, bs_intercept_reps = draw_bs_pairs_linreg(\n",
    "    x = mpg_cleaned.values, \n",
    "    y = horsepower_cleaned.values, \n",
    "    size=1000)"
   ]
  },
  {
   "cell_type": "code",
   "execution_count": 16,
   "metadata": {},
   "outputs": [
    {
     "name": "stdout",
     "output_type": "stream",
     "text": [
      "The 95% CI for the slope is between -4.2 and -3.5 mpg.\n"
     ]
    },
    {
     "data": {
      "image/png": "[encoded data removed]",
      "text/plain": [
       "<Figure size 432x288 with 1 Axes>"
      ]
     },
     "metadata": {
      "needs_background": "light"
     },
     "output_type": "display_data"
    }
   ],
   "source": [
    "# compute and print 95% CI for the slope\n",
    "slope_confint = np.percentile(bs_slope_reps, [2.5, 97.5])\n",
    "print(\"The 95% CI for the slope is between\", slope_confint[0].round(1), \"and\", slope_confint[1].round(1),\"mpg.\")\n",
    "\n",
    "# plot the histogram of the bs reps for slope\n",
    "_ = plt.hist(bs_slope_reps, bins=50, density=True)\n",
    "_ = plt.xlabel('slope')\n",
    "_ = plt.ylabel('PDF')\n",
    "plt.show()"
   ]
  },
  {
   "cell_type": "code",
   "execution_count": 17,
   "metadata": {},
   "outputs": [
    {
     "name": "stdout",
     "output_type": "stream",
     "text": [
      "The 95% CI for the intercept is between 185.4 and 204.0 mpg.\n"
     ]
    },
    {
     "data": {
      "image/png": "[encoded data removed]",
      "text/plain": [
       "<Figure size 432x288 with 1 Axes>"
      ]
     },
     "metadata": {
      "needs_background": "light"
     },
     "output_type": "display_data"
    }
   ],
   "source": [
    "# compute and print 95% CI for the intercept of the regression line\n",
    "interc_confint = np.percentile(bs_intercept_reps, [2.5, 97.5])\n",
    "print(\"The 95% CI for the intercept is between\", interc_confint[0].round(1), \"and\", interc_confint[1].round(1),\"mpg.\")\n",
    "\n",
    "# plot the histogram of the bs reps for intercept\n",
    "_ = plt.hist(bs_intercept_reps, bins=50, density=True)\n",
    "_ = plt.xlabel('Intercept')\n",
    "_ = plt.ylabel('PDF')\n",
    "plt.show()"
   ]
  },
  {
   "cell_type": "code",
   "execution_count": 18,
   "metadata": {},
   "outputs": [
    {
     "data": {
      "image/png": "[encoded data removed]",
      "text/plain": [
       "<Figure size 432x288 with 1 Axes>"
      ]
     },
     "metadata": {
      "needs_background": "light"
     },
     "output_type": "display_data"
    }
   ],
   "source": [
    "# generate array of x-values for bootstrap lines: x\n",
    "x = np.array([0, 100])\n",
    "\n",
    "# plot the lines that result from the bootstrap slope and intercept replicates\n",
    "for i in range(100):\n",
    "    _ = plt.plot(x,                               \n",
    "                 bs_slope_reps[i] * x + bs_intercept_reps[i],\n",
    "                 linewidth=0.5, alpha=0.2, color='red')\n",
    "\n",
    "# plot the raw data points\n",
    "_ = plt.plot(mpg_cleaned.values, horsepower_cleaned.values, marker='.', linestyle='none')\n",
    "\n",
    "# label axes, set the margins, and show the plot\n",
    "_ = plt.xlabel('mpg')\n",
    "_ = plt.ylabel('horsepower')\n",
    "_ = plt.xlim(0, 50)\n",
    "_ = plt.ylim(0, 250)\n",
    "plt.show()"
   ]
  }
 ],
 "metadata": {
  "kernelspec": {
   "display_name": "Python 3",
   "language": "python",
   "name": "python3"
  },
  "language_info": {
   "codemirror_mode": {
    "name": "ipython",
    "version": 3
   },
   "file_extension": ".py",
   "mimetype": "text/x-python",
   "name": "python",
   "nbconvert_exporter": "python",
   "pygments_lexer": "ipython3",
   "version": "3.6.3"
  }
 },
 "nbformat": 4,
 "nbformat_minor": 2
}
