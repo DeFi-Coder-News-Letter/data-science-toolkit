{
 "cells": [
  {
   "cell_type": "markdown",
   "metadata": {},
   "source": [
    "# Time Series Forecasting with Prophet \n",
    "\n",
    "## Mini-Vignette: Modeling the Price of Ethereum\n",
    "\n",
    "By: [Paul Jeffries](https://twitter.com/ByPaulJ) \n",
    "\n",
    "Created: 03/27/2019\n",
    "\n",
    "## What is Prophet?\n",
    "\n",
    "[Prophet](https://facebook.github.io/prophet/) is an open source package (for both Python and R) for forecasting time series data based on an additive model where non-linear trends are fit wth yearly, weekly, and daily seasonality, plus holiday effects. It works best with time series that have strong seasonal effects and several seasons of historical data. Prophet is robust to missing data and shifts in the trend, and typically handles outliers well (according to the pcakage documentation). Prophet is open source software released by Facebook's core Data Science team. It is [available for download](https://facebook.github.io/prophet/docs/installation.html) on CRAN and PyPI. The academic paper (still in peer-review at the time of this writing) [is available here](https://peerj.com/preprints/3190/). \n",
    "\n",
    "tl;dr --> Prophet is essentially Facebook's data science team's version of [auto-ARIMA](https://www.analyticsvidhya.com/blog/2018/08/auto-arima-time-series-modeling-python-r/).\n",
    "\n",
    "## Use Case: Understanding Seasonal & Temporal Patterns in the Price of Ethereum\n",
    "\n",
    "Prophet is particularly well-suited for a use case like examining the [daily price of ETH](https://coinmarketcap.com/currencies/ethereum/) (aka Ether)--the 2nd largest cryptoasset [after Bitcoin](https://www.youtube.com/watch?v=0UBk1e5qnr4)--as we have multiple years of daily data, and we suppose that there may be seasonal effects at various levels of granularity that moderate price movement in some way. The motivation for this vignette came from some of [my other work examining price movements in the crypto markets](https://github.com/pmaji/crypto-whale-watching-app), in which I observed many traders claiming that there was a discernable \"weekend bump\" or \"weekend bull\" effect in crypto markets. To summarize, **there have been many claims that weekends are, *ceteris paribus*, more bullish for ETH trading than weekdays. This methodology will enable us to test the veracity of such claims.** While in this vignette I will build a \"forecast\" for the price of ETH, the main goal of this vignette is not to arrive at a perfect price forecast. Instead, the goal is to make use of the explanatory capabilities built into the Prophet package to look for evidence that may either support or contradict the 'weekend bull' thesis. \n",
    "\n",
    "This vignette doesn't fully exlore anywhere near all of the features of Prophet, and is only meant as an introduction. Hopefully you are inspired by what you see below to think of ways to improve this work, perhaps applying it to other time series forecasting applications as well. I am by no means an expert (either of Prophet specifically, or time-series forecasting writ large), but if you have any questions, feel free to [open an issue here on GitHub](https://github.com/pmaji/data-science-toolkit/issues), and, as always, I'll do my best to respond expeditiously. With that, let's get into the code!\n",
    "\n",
    "## Basic Setup"
   ]
  },
  {
   "cell_type": "code",
   "execution_count": 1,
   "metadata": {},
   "outputs": [],
   "source": [
    "# key packages used throughout:\n",
    "\n",
    "# basic packages\n",
    "import pandas as pd\n",
    "import datetime\n",
    "import numpy as np\n",
    "\n",
    "# forecasting package\n",
    "from fbprophet import Prophet\n",
    "# package to import historical crypto OHLC data\n",
    "from cryptory import Cryptory"
   ]
  },
  {
   "cell_type": "code",
   "execution_count": 21,
   "metadata": {},
   "outputs": [
    {
     "name": "stdout",
     "output_type": "stream",
     "text": [
      "This notebook was late run:  2019-03-30 19:08:57.481282\n"
     ]
    }
   ],
   "source": [
    "# prints the present date and time as a form of log\n",
    "print(\"This notebook was late run: \", datetime.datetime.now())"
   ]
  },
  {
   "cell_type": "markdown",
   "metadata": {},
   "source": [
    "## Pulling Historical Price Data for Ethereum\n",
    "\n",
    "There are plenty ways that one can access historical OHLC data for top cryptocurrencies. If you're interested in data science projects pertaining to cryptocurrencies and/or how to access pertinent crypto data specifically, I highly recommend checking out two other public projects I maintain that deal in the crypto space:\n",
    "\n",
    "- [This one here](https://github.com/pmaji/financial-asset-comparison-tool/blob/master/README.md) is a Python app that tracks \"whale\" (aka large volume) activity in US crypto markets\n",
    "    - This project pulls OHLC crypto data from [Coin Metrics](https://coinmetrics.io/)\n",
    "- [This one here](https://github.com/pmaji/crypto-whale-watching-app) is an R Shiny app that allows for the comparison of the performance of traditional financial assets vs. cryptos\n",
    "    - This project pulls OHLC crypto data [from GDAX's (aka Coinbase Pro's) API](https://docs.pro.coinbase.com/?r=1)\n",
    "    \n",
    "That said, for this vignette, I decided to use the very simple and user-friendly [package \"cryptory\"](https://github.com/dashee87/cryptory) to pull in OHLC data for ETH (sourced from CoinMarketCap). Why ETH... why not Bitcoin or insert-other-cryptocurrency-here? I chose ETH simply because it's the project and community in which I am most personally interested and involved. If you want to see what a forecast for another cryptoasset would look like, simply fork this repo, change one line of code in this notebook, and if you discover something cool, let me know (my twitter is hyperlinked above in the byline)!"
   ]
  },
  {
   "cell_type": "code",
   "execution_count": 2,
   "metadata": {},
   "outputs": [],
   "source": [
    "# initialize the cryptory object \n",
    "# pull data from start of 2015 to present day\n",
    "my_cryptory_obj = Cryptory(from_date = \"2015-01-01\")\n",
    "\n",
    "# get historical ETH OHLC data from coinmarketcap\n",
    "eth_ohlc_hist_df = my_cryptory_obj.extract_coinmarketcap(\"ethereum\")"
   ]
  },
  {
   "cell_type": "code",
   "execution_count": 3,
   "metadata": {},
   "outputs": [
    {
     "name": "stdout",
     "output_type": "stream",
     "text": [
      "(1331, 7)\n"
     ]
    },
    {
     "data": {
      "text/html": [
       "<div>\n",
       "<style scoped>\n",
       "    .dataframe tbody tr th:only-of-type {\n",
       "        vertical-align: middle;\n",
       "    }\n",
       "\n",
       "    .dataframe tbody tr th {\n",
       "        vertical-align: top;\n",
       "    }\n",
       "\n",
       "    .dataframe thead th {\n",
       "        text-align: right;\n",
       "    }\n",
       "</style>\n",
       "<table border=\"1\" class=\"dataframe\">\n",
       "  <thead>\n",
       "    <tr style=\"text-align: right;\">\n",
       "      <th></th>\n",
       "      <th>date</th>\n",
       "      <th>open</th>\n",
       "      <th>high</th>\n",
       "      <th>low</th>\n",
       "      <th>close</th>\n",
       "      <th>volume</th>\n",
       "      <th>marketcap</th>\n",
       "    </tr>\n",
       "  </thead>\n",
       "  <tbody>\n",
       "    <tr>\n",
       "      <th>0</th>\n",
       "      <td>2019-03-29</td>\n",
       "      <td>139.34</td>\n",
       "      <td>142.55</td>\n",
       "      <td>138.05</td>\n",
       "      <td>142.50</td>\n",
       "      <td>5125602702</td>\n",
       "      <td>15025361637</td>\n",
       "    </tr>\n",
       "    <tr>\n",
       "      <th>1</th>\n",
       "      <td>2019-03-28</td>\n",
       "      <td>141.01</td>\n",
       "      <td>141.01</td>\n",
       "      <td>138.43</td>\n",
       "      <td>139.42</td>\n",
       "      <td>4163212475</td>\n",
       "      <td>14698609599</td>\n",
       "    </tr>\n",
       "    <tr>\n",
       "      <th>2</th>\n",
       "      <td>2019-03-27</td>\n",
       "      <td>135.45</td>\n",
       "      <td>141.08</td>\n",
       "      <td>135.34</td>\n",
       "      <td>140.99</td>\n",
       "      <td>5228240093</td>\n",
       "      <td>14862394451</td>\n",
       "    </tr>\n",
       "    <tr>\n",
       "      <th>3</th>\n",
       "      <td>2019-03-26</td>\n",
       "      <td>135.05</td>\n",
       "      <td>135.46</td>\n",
       "      <td>133.76</td>\n",
       "      <td>135.46</td>\n",
       "      <td>4499271679</td>\n",
       "      <td>14277816266</td>\n",
       "    </tr>\n",
       "    <tr>\n",
       "      <th>4</th>\n",
       "      <td>2019-03-25</td>\n",
       "      <td>137.08</td>\n",
       "      <td>137.70</td>\n",
       "      <td>133.49</td>\n",
       "      <td>135.03</td>\n",
       "      <td>4480516753</td>\n",
       "      <td>14230733149</td>\n",
       "    </tr>\n",
       "  </tbody>\n",
       "</table>\n",
       "</div>"
      ],
      "text/plain": [
       "        date    open    high     low   close      volume    marketcap\n",
       "0 2019-03-29  139.34  142.55  138.05  142.50  5125602702  15025361637\n",
       "1 2019-03-28  141.01  141.01  138.43  139.42  4163212475  14698609599\n",
       "2 2019-03-27  135.45  141.08  135.34  140.99  5228240093  14862394451\n",
       "3 2019-03-26  135.05  135.46  133.76  135.46  4499271679  14277816266\n",
       "4 2019-03-25  137.08  137.70  133.49  135.03  4480516753  14230733149"
      ]
     },
     "execution_count": 3,
     "metadata": {},
     "output_type": "execute_result"
    }
   ],
   "source": [
    "# inspect the results\n",
    "print(eth_ohlc_hist_df.shape)\n",
    "eth_ohlc_hist_df.head()"
   ]
  },
  {
   "cell_type": "markdown",
   "metadata": {},
   "source": [
    "From the above we can see that we have some pretty clean data to work with. In most real-world use cases, we won't be that lucky, so if we did have unclean data, here is where in the workflow I would turn to handy packages [like pyjanitor](https://github.com/ericmjl/pyjanitor). If you're interested in one that would look like, you can see that at work in a recent [vignette I wrote up on radar charts here](https://github.com/pmaji/data-science-toolkit/blob/master/eda-and-visualization/radar_charts.ipynb). \n",
    "\n",
    "For the purpose of this project, all we really need from the colums above is our date column, and our price column. For price, we could technically choose from any of the OHLC columns, but I'm going to go with closing price. There is a fundamentals vs. technicals argument to be made here about whether I should care more about closing price than market cap, but that's not the purpose of this vignette. If that subject interests you, [here's a good place to start](https://www.thebalance.com/why-per-share-price-is-not-important-3140791) to learn more. \n",
    "\n",
    "As for time period of interest, I chose to just look at the past ~1 year of data. The reason for this is that prior to that time period, the cryptocurrency markets were incredibly choppy. There was a relatively [large price bubble](https://seekingalpha.com/article/4234452-crypto-bubble-generation-investors-got-burned) in cryptocurrency markets that peaked around December of 2017, so limiting ourselves to a recent vintage prevents, to some extent, this volatility from affecting our forecast. To put it simply, I want this vignette to only **examine temporal trends in ETH's price after the popping of the 2017 price bubble.**"
   ]
  },
  {
   "cell_type": "code",
   "execution_count": 4,
   "metadata": {},
   "outputs": [],
   "source": [
    "# subset main df to get just the date and the closing price\n",
    "eth_price_hist_df = eth_ohlc_hist_df.loc[:,['date','close']]\n",
    "\n",
    "# then filtering to only data from on or after April 1st of 2018\n",
    "eth_price_hist_df = eth_price_hist_df.loc[eth_price_hist_df['date']>='01APR018',:]\n",
    "\n",
    "# rename date column to ds and continous value column to y per fbprophet's docs\n",
    "eth_price_hist_df.columns = ['ds', 'y']"
   ]
  },
  {
   "cell_type": "code",
   "execution_count": 5,
   "metadata": {},
   "outputs": [
    {
     "name": "stdout",
     "output_type": "stream",
     "text": [
      "(363, 2)\n"
     ]
    },
    {
     "data": {
      "text/html": [
       "<div>\n",
       "<style scoped>\n",
       "    .dataframe tbody tr th:only-of-type {\n",
       "        vertical-align: middle;\n",
       "    }\n",
       "\n",
       "    .dataframe tbody tr th {\n",
       "        vertical-align: top;\n",
       "    }\n",
       "\n",
       "    .dataframe thead th {\n",
       "        text-align: right;\n",
       "    }\n",
       "</style>\n",
       "<table border=\"1\" class=\"dataframe\">\n",
       "  <thead>\n",
       "    <tr style=\"text-align: right;\">\n",
       "      <th></th>\n",
       "      <th>ds</th>\n",
       "      <th>y</th>\n",
       "    </tr>\n",
       "  </thead>\n",
       "  <tbody>\n",
       "    <tr>\n",
       "      <th>0</th>\n",
       "      <td>2019-03-29</td>\n",
       "      <td>142.50</td>\n",
       "    </tr>\n",
       "    <tr>\n",
       "      <th>1</th>\n",
       "      <td>2019-03-28</td>\n",
       "      <td>139.42</td>\n",
       "    </tr>\n",
       "    <tr>\n",
       "      <th>2</th>\n",
       "      <td>2019-03-27</td>\n",
       "      <td>140.99</td>\n",
       "    </tr>\n",
       "    <tr>\n",
       "      <th>3</th>\n",
       "      <td>2019-03-26</td>\n",
       "      <td>135.46</td>\n",
       "    </tr>\n",
       "    <tr>\n",
       "      <th>4</th>\n",
       "      <td>2019-03-25</td>\n",
       "      <td>135.03</td>\n",
       "    </tr>\n",
       "  </tbody>\n",
       "</table>\n",
       "</div>"
      ],
      "text/plain": [
       "          ds       y\n",
       "0 2019-03-29  142.50\n",
       "1 2019-03-28  139.42\n",
       "2 2019-03-27  140.99\n",
       "3 2019-03-26  135.46\n",
       "4 2019-03-25  135.03"
      ]
     },
     "execution_count": 5,
     "metadata": {},
     "output_type": "execute_result"
    }
   ],
   "source": [
    "# re-inspecting our df post-subsetting and filtering\n",
    "print(eth_price_hist_df.shape)\n",
    "eth_price_hist_df.head()"
   ]
  },
  {
   "cell_type": "markdown",
   "metadata": {},
   "source": [
    "## Fitting the Prophet Model and Building the Forecast\n",
    "\n",
    "Here is where we get to the code relating to Prophet specifically. There are many features that I am not showing here; this is essentially an example of the most vanilla Prophet model possible. For example, if you wanted to establish [saturating minimums and/or maximums](https://facebook.github.io/prophet/docs/saturating_forecasts.html) for your forecast, you could do that easily by adding a few lines to the code below where I initialize the Prophet model object. You can also specify what growth type you'd like to model (e.g. logistic), and much more. "
   ]
  },
  {
   "cell_type": "code",
   "execution_count": 6,
   "metadata": {},
   "outputs": [
    {
     "name": "stderr",
     "output_type": "stream",
     "text": [
      "INFO:fbprophet:Disabling yearly seasonality. Run prophet with yearly_seasonality=True to override this.\n",
      "INFO:fbprophet:Disabling daily seasonality. Run prophet with daily_seasonality=True to override this.\n"
     ]
    }
   ],
   "source": [
    "%%capture\n",
    "# putting this %%capture here to silence the numpy warning that is thrown by a dependency\n",
    "\n",
    "# initialize the Prophet model object\n",
    "m = Prophet()\n",
    "\n",
    "# fit the model\n",
    "m.fit(eth_price_hist_df)"
   ]
  },
  {
   "cell_type": "markdown",
   "metadata": {},
   "source": [
    "As can be seen from the print-outs above. While Prophet was fitting the model, it kicked out both yearly and daily seasonality. This makes perfect sense because we only fed it ~1 year of data, and our data is aggregated at the daily level, so determining yearly and hourly trends would be impossible (daily_seasonality here means temporal trends over the course of a day, i.e. hourly)."
   ]
  },
  {
   "cell_type": "code",
   "execution_count": 7,
   "metadata": {},
   "outputs": [
    {
     "data": {
      "text/html": [
       "<div>\n",
       "<style scoped>\n",
       "    .dataframe tbody tr th:only-of-type {\n",
       "        vertical-align: middle;\n",
       "    }\n",
       "\n",
       "    .dataframe tbody tr th {\n",
       "        vertical-align: top;\n",
       "    }\n",
       "\n",
       "    .dataframe thead th {\n",
       "        text-align: right;\n",
       "    }\n",
       "</style>\n",
       "<table border=\"1\" class=\"dataframe\">\n",
       "  <thead>\n",
       "    <tr style=\"text-align: right;\">\n",
       "      <th></th>\n",
       "      <th>ds</th>\n",
       "    </tr>\n",
       "  </thead>\n",
       "  <tbody>\n",
       "    <tr>\n",
       "      <th>388</th>\n",
       "      <td>2019-04-24</td>\n",
       "    </tr>\n",
       "    <tr>\n",
       "      <th>389</th>\n",
       "      <td>2019-04-25</td>\n",
       "    </tr>\n",
       "    <tr>\n",
       "      <th>390</th>\n",
       "      <td>2019-04-26</td>\n",
       "    </tr>\n",
       "    <tr>\n",
       "      <th>391</th>\n",
       "      <td>2019-04-27</td>\n",
       "    </tr>\n",
       "    <tr>\n",
       "      <th>392</th>\n",
       "      <td>2019-04-28</td>\n",
       "    </tr>\n",
       "  </tbody>\n",
       "</table>\n",
       "</div>"
      ],
      "text/plain": [
       "            ds\n",
       "388 2019-04-24\n",
       "389 2019-04-25\n",
       "390 2019-04-26\n",
       "391 2019-04-27\n",
       "392 2019-04-28"
      ]
     },
     "execution_count": 7,
     "metadata": {},
     "output_type": "execute_result"
    }
   ],
   "source": [
    "# now we build a df that will hold our forecasted values from the model\n",
    "# periods = number of days to forecast (here 30)\n",
    "future = m.make_future_dataframe(periods=30)"
   ]
  },
  {
   "cell_type": "code",
   "execution_count": null,
   "metadata": {},
   "outputs": [],
   "source": [
    "# taking a look at the last 5 days that the model will attempt to predict\n",
    "future.tail(5)"
   ]
  },
  {
   "cell_type": "code",
   "execution_count": 8,
   "metadata": {},
   "outputs": [
    {
     "data": {
      "text/html": [
       "<div>\n",
       "<style scoped>\n",
       "    .dataframe tbody tr th:only-of-type {\n",
       "        vertical-align: middle;\n",
       "    }\n",
       "\n",
       "    .dataframe tbody tr th {\n",
       "        vertical-align: top;\n",
       "    }\n",
       "\n",
       "    .dataframe thead th {\n",
       "        text-align: right;\n",
       "    }\n",
       "</style>\n",
       "<table border=\"1\" class=\"dataframe\">\n",
       "  <thead>\n",
       "    <tr style=\"text-align: right;\">\n",
       "      <th></th>\n",
       "      <th>ds</th>\n",
       "      <th>yhat</th>\n",
       "      <th>yhat_lower</th>\n",
       "      <th>yhat_upper</th>\n",
       "    </tr>\n",
       "  </thead>\n",
       "  <tbody>\n",
       "    <tr>\n",
       "      <th>388</th>\n",
       "      <td>2019-04-24</td>\n",
       "      <td>131.946488</td>\n",
       "      <td>74.685377</td>\n",
       "      <td>183.684686</td>\n",
       "    </tr>\n",
       "    <tr>\n",
       "      <th>389</th>\n",
       "      <td>2019-04-25</td>\n",
       "      <td>135.794357</td>\n",
       "      <td>82.177063</td>\n",
       "      <td>183.799596</td>\n",
       "    </tr>\n",
       "    <tr>\n",
       "      <th>390</th>\n",
       "      <td>2019-04-26</td>\n",
       "      <td>135.650640</td>\n",
       "      <td>85.610209</td>\n",
       "      <td>190.217589</td>\n",
       "    </tr>\n",
       "    <tr>\n",
       "      <th>391</th>\n",
       "      <td>2019-04-27</td>\n",
       "      <td>139.445305</td>\n",
       "      <td>85.773204</td>\n",
       "      <td>193.178969</td>\n",
       "    </tr>\n",
       "    <tr>\n",
       "      <th>392</th>\n",
       "      <td>2019-04-28</td>\n",
       "      <td>140.106095</td>\n",
       "      <td>90.730334</td>\n",
       "      <td>194.248482</td>\n",
       "    </tr>\n",
       "  </tbody>\n",
       "</table>\n",
       "</div>"
      ],
      "text/plain": [
       "            ds        yhat  yhat_lower  yhat_upper\n",
       "388 2019-04-24  131.946488   74.685377  183.684686\n",
       "389 2019-04-25  135.794357   82.177063  183.799596\n",
       "390 2019-04-26  135.650640   85.610209  190.217589\n",
       "391 2019-04-27  139.445305   85.773204  193.178969\n",
       "392 2019-04-28  140.106095   90.730334  194.248482"
      ]
     },
     "execution_count": 8,
     "metadata": {},
     "output_type": "execute_result"
    }
   ],
   "source": [
    "# feed the model our df of dates for which to make a prediction\n",
    "forecast = m.predict(future)"
   ]
  },
  {
   "cell_type": "code",
   "execution_count": null,
   "metadata": {},
   "outputs": [],
   "source": [
    "# return key columns from the predictions for the last 5 days we asked Prophet to predict\n",
    "forecast[['ds', 'yhat', 'yhat_lower', 'yhat_upper']].tail(5)"
   ]
  },
  {
   "cell_type": "markdown",
   "metadata": {},
   "source": [
    "How to read the table above (focus on 1st row):\n",
    "\n",
    "- 'ds': the date forecasted in this row is April 24th, 2019\n",
    "- 'yhat': the point estimate of Prophet's forecast is ~ 131.95\n",
    "- 'yhat_lower': the lower end of the confidence interval for Prophet's forecast is ~ 79.10\n",
    "- 'yhat_upper': the upper end of the confidence interval for Prophet's forecast is ~ 183.82\n",
    "\n",
    "Colloquially put, Prophet forecasts that (given the simple model we built) the price of ETH on April 24th, 2019 will be 131.95, but it could go as low as 79.10, or as high as 83.82. As we can tell, that's a lot of variance, so let's take a look at the forecast over time, and then drill down into some performance metrics. \n",
    "\n",
    "## Visualizing the Forecast\n",
    "\n",
    "As we'll see below, Prophet has a very simple and helpful plot method assocaited with its model class, which plots the historical fit and the forecast. In the plot:\n",
    "\n",
    "- black dots      --> actual observations\n",
    "- dark blue line  --> predictions / fitted values\n",
    "- light blue line --> confidence bound"
   ]
  },
  {
   "cell_type": "code",
   "execution_count": 23,
   "metadata": {},
   "outputs": [],
   "source": [
    "%%capture\n",
    "# capturing warnings here because one of the dependencies throws a pandas future warning\n",
    "\n",
    "# plotting the historical fitted values and forecast\n",
    "fig1 = m.plot(forecast)"
   ]
  },
  {
   "cell_type": "code",
   "execution_count": 25,
   "metadata": {},
   "outputs": [
    {
     "data": {
      "image/png": "[encoded data removed]",
      "text/plain": [
       "<Figure size 720x432 with 1 Axes>"
      ]
     },
     "execution_count": 25,
     "metadata": {},
     "output_type": "execute_result"
    }
   ],
   "source": [
    "# displaying the plot\n",
    "fig1"
   ]
  },
  {
   "cell_type": "markdown",
   "metadata": {},
   "source": [
    "While the default plot method is helpful, it [does not make it easy](https://github.com/facebook/prophet/issues/133) to view just a small subet of the chart (e.g. if you wanted to limit yoru view to the last handful of months). In order to dealwith this, I hav written a custom helper function [that you can find on GitHub here](), which I now prefer to use for all my forecast plotting. It behaves identically to the base Prophet plot method, with a few additional functionalities:\n",
    "\n",
    "- added parameter so you can specifiy what x-axis date format you want\n",
    "- added parameter so you can speciify the first date to include in the plot\n",
    "- added parameter so you can speciify the last date to include in the plot\n",
    "- added parameter so you can specifiy if you want the x-axis labels auto-fit & rotated or not\n",
    "\n",
    "If you choose not to use any of these additional parameters, dt_restricted_prophet_plt() behaves identically to the default plot method."
   ]
  },
  {
   "cell_type": "code",
   "execution_count": 10,
   "metadata": {},
   "outputs": [],
   "source": [
    "# sourcing the file containing my custom plotting function\n",
    "%run -i 'prophet_helper_functions.py'"
   ]
  },
  {
   "cell_type": "code",
   "execution_count": 11,
   "metadata": {},
   "outputs": [
    {
     "data": {
      "image/png": "[encoded data removed]",
      "text/plain": [
       "<Figure size 720x432 with 1 Axes>"
      ]
     },
     "metadata": {},
     "output_type": "display_data"
    }
   ],
   "source": [
    "# plotting the fit and forecast for January - June 1st 2019\n",
    "dt_restricted_prophet_plt(\n",
    "    m = m,\n",
    "    fcst = forecast,\n",
    "    visible_window_start_dt = '01JAN2019',\n",
    "    visible_window_end_dt = '01JUNE2019',\n",
    "    ylabel = \"ETH Price ($)\",\n",
    "    xlabel = \"Time\",\n",
    "    x_axis_date_format = '%Y-%m',\n",
    "    auto_fit_xaxis_labels = False\n",
    ");"
   ]
  },
  {
   "cell_type": "markdown",
   "metadata": {},
   "source": [
    "## Visualizing the Forecast's Components\n",
    "\n",
    "Recall that Prophet is an additive model, so the final forecast is essentially composed of the modeled effects of various seasonalities, plus some non-seasonal trend. It is thus possible to deconstruct the forecast into its various components, and Prophet has a hadny plot function to visualize precisely that. Below you will see 2 figures, each of which provides information about a particular model element. From the decomposition below of teh various forecast components, we might surmise a couple of things (reading the charts top-to-bottom).\n",
    "\n",
    "- From 1st chart -- labeled \"trend\":\n",
    "    - There is discernable downwards trend in ETH's price that started around May of 2015, began to relax in its severity around September of 2018, and appears to have inverted (slighlty) beginning just before 2019. \n",
    "- From the 2nd chart -- labeled \"weekly\":\n",
    "    - There appears to be evidence here that **supports the viability of the weekend-bump hypothesis**. You can see this in that the weekly seasonality component of the model spikes highest on Saturday and Sunday, reaching its low-point on Wednesdays. Obviously a more robust model is needed to support the weekend-bump hypothesis with greater certainty, but Prophet is telling us that there might well be something about the weekends that has folks more bullish. "
   ]
  },
  {
   "cell_type": "code",
   "execution_count": 12,
   "metadata": {},
   "outputs": [
    {
     "data": {
      "image/png": "[encoded data removed]",
      "text/plain": [
       "<Figure size 648x432 with 2 Axes>"
      ]
     },
     "metadata": {},
     "output_type": "display_data"
    }
   ],
   "source": [
    "# plot of Prophet's decomposition of trend and seasonality\n",
    "fig2 = m.plot_components(forecast)"
   ]
  },
  {
   "cell_type": "markdown",
   "metadata": {},
   "source": [
    "## Model Diagnostics\n",
    "\n",
    "Now that we have a forecast, the next question we must ask is obvious: \"how good is it?\"\n",
    "\n",
    "There are a myriad of ways in which one might wish to answer the question of how well a time series forecasting model performs. Luckily, Prophet has a [series of built-in diagnostic tools](https://facebook.github.io/prophet/docs/diagnostics.html) that can be used to examine the robustness of the model. Below, I'll demonstrate Prophet's functionality for measuring forecast error using historical cross-validation. "
   ]
  },
  {
   "cell_type": "code",
   "execution_count": 13,
   "metadata": {},
   "outputs": [
    {
     "name": "stderr",
     "output_type": "stream",
     "text": [
      "INFO:fbprophet:Making 17 forecasts with cutoffs between 2018-07-02 00:00:00 and 2019-02-27 00:00:00\n"
     ]
    }
   ],
   "source": [
    "%%capture\n",
    "# capturing warnings here because one of the dependencies throws a bunch of numpy deprecation warnings\n",
    "\n",
    "from fbprophet.diagnostics import cross_validation\n",
    "\n",
    "# we specify the forecast horizon to be used in the cv (here 30 days)\n",
    "# the default initial training period is 3 times the horizon\n",
    "# the default cutoffs are every 1/2 horizon\n",
    "# all options are paramterized, see docs linked in cell above more info\n",
    "df_cv = cross_validation(m, horizon = '30 days')"
   ]
  },
  {
   "cell_type": "code",
   "execution_count": 14,
   "metadata": {},
   "outputs": [
    {
     "data": {
      "text/html": [
       "<div>\n",
       "<style scoped>\n",
       "    .dataframe tbody tr th:only-of-type {\n",
       "        vertical-align: middle;\n",
       "    }\n",
       "\n",
       "    .dataframe tbody tr th {\n",
       "        vertical-align: top;\n",
       "    }\n",
       "\n",
       "    .dataframe thead th {\n",
       "        text-align: right;\n",
       "    }\n",
       "</style>\n",
       "<table border=\"1\" class=\"dataframe\">\n",
       "  <thead>\n",
       "    <tr style=\"text-align: right;\">\n",
       "      <th></th>\n",
       "      <th>ds</th>\n",
       "      <th>yhat</th>\n",
       "      <th>yhat_lower</th>\n",
       "      <th>yhat_upper</th>\n",
       "      <th>y</th>\n",
       "      <th>cutoff</th>\n",
       "    </tr>\n",
       "  </thead>\n",
       "  <tbody>\n",
       "    <tr>\n",
       "      <th>0</th>\n",
       "      <td>2018-07-03</td>\n",
       "      <td>418.768755</td>\n",
       "      <td>369.626041</td>\n",
       "      <td>461.771335</td>\n",
       "      <td>464.20</td>\n",
       "      <td>2018-07-02</td>\n",
       "    </tr>\n",
       "    <tr>\n",
       "      <th>1</th>\n",
       "      <td>2018-07-04</td>\n",
       "      <td>399.406512</td>\n",
       "      <td>356.513735</td>\n",
       "      <td>443.869704</td>\n",
       "      <td>467.32</td>\n",
       "      <td>2018-07-02</td>\n",
       "    </tr>\n",
       "    <tr>\n",
       "      <th>2</th>\n",
       "      <td>2018-07-05</td>\n",
       "      <td>411.014026</td>\n",
       "      <td>365.810851</td>\n",
       "      <td>455.407216</td>\n",
       "      <td>474.41</td>\n",
       "      <td>2018-07-02</td>\n",
       "    </tr>\n",
       "    <tr>\n",
       "      <th>3</th>\n",
       "      <td>2018-07-06</td>\n",
       "      <td>397.531018</td>\n",
       "      <td>349.554916</td>\n",
       "      <td>440.330902</td>\n",
       "      <td>474.01</td>\n",
       "      <td>2018-07-02</td>\n",
       "    </tr>\n",
       "    <tr>\n",
       "      <th>4</th>\n",
       "      <td>2018-07-07</td>\n",
       "      <td>401.746848</td>\n",
       "      <td>357.107991</td>\n",
       "      <td>445.183436</td>\n",
       "      <td>491.66</td>\n",
       "      <td>2018-07-02</td>\n",
       "    </tr>\n",
       "  </tbody>\n",
       "</table>\n",
       "</div>"
      ],
      "text/plain": [
       "          ds        yhat  yhat_lower  yhat_upper       y     cutoff\n",
       "0 2018-07-03  418.768755  369.626041  461.771335  464.20 2018-07-02\n",
       "1 2018-07-04  399.406512  356.513735  443.869704  467.32 2018-07-02\n",
       "2 2018-07-05  411.014026  365.810851  455.407216  474.41 2018-07-02\n",
       "3 2018-07-06  397.531018  349.554916  440.330902  474.01 2018-07-02\n",
       "4 2018-07-07  401.746848  357.107991  445.183436  491.66 2018-07-02"
      ]
     },
     "execution_count": 14,
     "metadata": {},
     "output_type": "execute_result"
    }
   ],
   "source": [
    "# inspecting cross-validated results\n",
    "df_cv.head()"
   ]
  },
  {
   "cell_type": "markdown",
   "metadata": {},
   "source": [
    "The above is similar to one we've already seen, with the exception being the addition of columns 'y' and 'cutoff'. 'y' here is simply the actual value observed, while 'cutoff' is the cutoff value used in that instance. As such, you can read the first row as follows:\n",
    "\n",
    "When predicting a 30-day horizon using data up through July 2nd, 2018, this model predicted that the price of ETH one day after the cutoff date (i.e. the price on July 3rd) would be ~418.77, with an upper bound of ~467.06, and a lower bound of ~372.61. Given that the actual price on that date was 464.20, this forecast under-predicted the price of ETH on this date by ~45.43 (464.20-418.77). \n",
    "\n",
    "As you can see, it is thus quite easy to perform any residual-based calculations you might like using these cross-validated sets. That said, let's take a look at just a few of the pre-packaged performance metrics that Prophet provides, below. "
   ]
  },
  {
   "cell_type": "code",
   "execution_count": 15,
   "metadata": {},
   "outputs": [],
   "source": [
    "from fbprophet.diagnostics import performance_metrics\n",
    "\n",
    "# fetch a couple vanilla performance metrics\n",
    "df_p = performance_metrics(df_cv)"
   ]
  },
  {
   "cell_type": "code",
   "execution_count": 16,
   "metadata": {},
   "outputs": [
    {
     "data": {
      "text/html": [
       "<div>\n",
       "<style scoped>\n",
       "    .dataframe tbody tr th:only-of-type {\n",
       "        vertical-align: middle;\n",
       "    }\n",
       "\n",
       "    .dataframe tbody tr th {\n",
       "        vertical-align: top;\n",
       "    }\n",
       "\n",
       "    .dataframe thead th {\n",
       "        text-align: right;\n",
       "    }\n",
       "</style>\n",
       "<table border=\"1\" class=\"dataframe\">\n",
       "  <thead>\n",
       "    <tr style=\"text-align: right;\">\n",
       "      <th></th>\n",
       "      <th>horizon</th>\n",
       "      <th>mse</th>\n",
       "      <th>rmse</th>\n",
       "      <th>mae</th>\n",
       "      <th>mape</th>\n",
       "      <th>coverage</th>\n",
       "    </tr>\n",
       "  </thead>\n",
       "  <tbody>\n",
       "    <tr>\n",
       "      <th>2</th>\n",
       "      <td>3 days</td>\n",
       "      <td>1216.630078</td>\n",
       "      <td>34.880225</td>\n",
       "      <td>30.622070</td>\n",
       "      <td>0.155008</td>\n",
       "      <td>0.823529</td>\n",
       "    </tr>\n",
       "    <tr>\n",
       "      <th>303</th>\n",
       "      <td>4 days</td>\n",
       "      <td>1202.954675</td>\n",
       "      <td>34.683637</td>\n",
       "      <td>30.456102</td>\n",
       "      <td>0.159744</td>\n",
       "      <td>0.843137</td>\n",
       "    </tr>\n",
       "    <tr>\n",
       "      <th>213</th>\n",
       "      <td>4 days</td>\n",
       "      <td>1209.760750</td>\n",
       "      <td>34.781615</td>\n",
       "      <td>30.586664</td>\n",
       "      <td>0.158935</td>\n",
       "      <td>0.843137</td>\n",
       "    </tr>\n",
       "    <tr>\n",
       "      <th>393</th>\n",
       "      <td>4 days</td>\n",
       "      <td>1202.118730</td>\n",
       "      <td>34.671584</td>\n",
       "      <td>30.467017</td>\n",
       "      <td>0.161849</td>\n",
       "      <td>0.843137</td>\n",
       "    </tr>\n",
       "    <tr>\n",
       "      <th>423</th>\n",
       "      <td>4 days</td>\n",
       "      <td>1203.826241</td>\n",
       "      <td>34.696199</td>\n",
       "      <td>30.582786</td>\n",
       "      <td>0.162910</td>\n",
       "      <td>0.843137</td>\n",
       "    </tr>\n",
       "  </tbody>\n",
       "</table>\n",
       "</div>"
      ],
      "text/plain": [
       "    horizon          mse       rmse        mae      mape  coverage\n",
       "2    3 days  1216.630078  34.880225  30.622070  0.155008  0.823529\n",
       "303  4 days  1202.954675  34.683637  30.456102  0.159744  0.843137\n",
       "213  4 days  1209.760750  34.781615  30.586664  0.158935  0.843137\n",
       "393  4 days  1202.118730  34.671584  30.467017  0.161849  0.843137\n",
       "423  4 days  1203.826241  34.696199  30.582786  0.162910  0.843137"
      ]
     },
     "execution_count": 16,
     "metadata": {},
     "output_type": "execute_result"
    }
   ],
   "source": [
    "# inspect the first 5 rows of diagnostic results\n",
    "df_p.head(5)"
   ]
  },
  {
   "cell_type": "markdown",
   "metadata": {},
   "source": [
    "The way to read the table above is as follows (look at the 1st row -- index 2):\n",
    "\n",
    "When making cross-validated predictions with a horizon of 3 days, our mean absolute percent error (MAPE) was ~0.155. MAPE here is in decimals, so that translates to an average error of around %15.5. Depending on what your intended use case, that can either be very good, very bad, or somewhere in between. In my opinion, given what a noisy stochastic process the price of cryptocurrency presently is, I think that's a decent starting forecast. "
   ]
  },
  {
   "cell_type": "code",
   "execution_count": 17,
   "metadata": {},
   "outputs": [
    {
     "data": {
      "image/png": "[encoded data removed]",
      "text/plain": [
       "<Figure size 720x432 with 1 Axes>"
      ]
     },
     "metadata": {},
     "output_type": "display_data"
    }
   ],
   "source": [
    "from fbprophet.plot import plot_cross_validation_metric\n",
    "\n",
    "# now we plot a window-average for MAPE to see how the forecast performs\n",
    "# the blue line represents the window-average MAPE, whereas the grey dots are individual observations\n",
    "# for example, the top-right-most grey dot represents a single observation where the %error was nearly 100%\n",
    "fig = plot_cross_validation_metric(df_cv, metric = 'mape')"
   ]
  },
  {
   "cell_type": "markdown",
   "metadata": {},
   "source": [
    "I find that the chart above is quite helpful for examining the forecast's performance over different windows. For example, from the above figure, we can tell that the forecast gets progressively worse (going from < %20 MAPE up to ~ %30 MAPE) when you go from a horizon of 5 days to a horizon of 10 days. That said, looking beyond a 10 day horizon, it appears to do just as well forecasting 20 days as it does forecasting 10 days of prices, with further model degradation kicking it once your horizon goes above 20 days. \n",
    "\n",
    "Obviously, there are many more ways than this to look at the quality of your model. I have only delved into one of the Prophet provided metrics here--MAPE--and there are others (MSE, RMSE, MAE, coverage) that warrant examination. In addition, you might wish to code up your own diagnostic metrics, perhaps involving the residuals. Below I'll show a very quick way of beginning to do just that, by looking at absolute residuals and percent error."
   ]
  },
  {
   "cell_type": "code",
   "execution_count": 18,
   "metadata": {},
   "outputs": [
    {
     "data": {
      "text/html": [
       "<div>\n",
       "<style scoped>\n",
       "    .dataframe tbody tr th:only-of-type {\n",
       "        vertical-align: middle;\n",
       "    }\n",
       "\n",
       "    .dataframe tbody tr th {\n",
       "        vertical-align: top;\n",
       "    }\n",
       "\n",
       "    .dataframe thead th {\n",
       "        text-align: right;\n",
       "    }\n",
       "</style>\n",
       "<table border=\"1\" class=\"dataframe\">\n",
       "  <thead>\n",
       "    <tr style=\"text-align: right;\">\n",
       "      <th></th>\n",
       "      <th>ds</th>\n",
       "      <th>yhat</th>\n",
       "      <th>yhat_lower</th>\n",
       "      <th>yhat_upper</th>\n",
       "      <th>y</th>\n",
       "      <th>cutoff</th>\n",
       "    </tr>\n",
       "  </thead>\n",
       "  <tbody>\n",
       "    <tr>\n",
       "      <th>0</th>\n",
       "      <td>2018-07-03</td>\n",
       "      <td>418.768755</td>\n",
       "      <td>369.626041</td>\n",
       "      <td>461.771335</td>\n",
       "      <td>464.20</td>\n",
       "      <td>2018-07-02</td>\n",
       "    </tr>\n",
       "    <tr>\n",
       "      <th>1</th>\n",
       "      <td>2018-07-04</td>\n",
       "      <td>399.406512</td>\n",
       "      <td>356.513735</td>\n",
       "      <td>443.869704</td>\n",
       "      <td>467.32</td>\n",
       "      <td>2018-07-02</td>\n",
       "    </tr>\n",
       "    <tr>\n",
       "      <th>2</th>\n",
       "      <td>2018-07-05</td>\n",
       "      <td>411.014026</td>\n",
       "      <td>365.810851</td>\n",
       "      <td>455.407216</td>\n",
       "      <td>474.41</td>\n",
       "      <td>2018-07-02</td>\n",
       "    </tr>\n",
       "    <tr>\n",
       "      <th>3</th>\n",
       "      <td>2018-07-06</td>\n",
       "      <td>397.531018</td>\n",
       "      <td>349.554916</td>\n",
       "      <td>440.330902</td>\n",
       "      <td>474.01</td>\n",
       "      <td>2018-07-02</td>\n",
       "    </tr>\n",
       "    <tr>\n",
       "      <th>4</th>\n",
       "      <td>2018-07-07</td>\n",
       "      <td>401.746848</td>\n",
       "      <td>357.107991</td>\n",
       "      <td>445.183436</td>\n",
       "      <td>491.66</td>\n",
       "      <td>2018-07-02</td>\n",
       "    </tr>\n",
       "  </tbody>\n",
       "</table>\n",
       "</div>"
      ],
      "text/plain": [
       "          ds        yhat  yhat_lower  yhat_upper       y     cutoff\n",
       "0 2018-07-03  418.768755  369.626041  461.771335  464.20 2018-07-02\n",
       "1 2018-07-04  399.406512  356.513735  443.869704  467.32 2018-07-02\n",
       "2 2018-07-05  411.014026  365.810851  455.407216  474.41 2018-07-02\n",
       "3 2018-07-06  397.531018  349.554916  440.330902  474.01 2018-07-02\n",
       "4 2018-07-07  401.746848  357.107991  445.183436  491.66 2018-07-02"
      ]
     },
     "execution_count": 18,
     "metadata": {},
     "output_type": "execute_result"
    }
   ],
   "source": [
    "df_cv.head()"
   ]
  },
  {
   "cell_type": "code",
   "execution_count": 19,
   "metadata": {},
   "outputs": [],
   "source": [
    "# calculating residuals manually\n",
    "df_cv['residuals'] = abs(df_cv['y'] - df_cv['yhat'])\n",
    "\n",
    "# calculating absolute percent error for each observation\n",
    "df_cv['perc_error'] = df_cv['residuals']/df_cv['y']*100"
   ]
  },
  {
   "cell_type": "code",
   "execution_count": 20,
   "metadata": {},
   "outputs": [
    {
     "data": {
      "text/html": [
       "<div>\n",
       "<style scoped>\n",
       "    .dataframe tbody tr th:only-of-type {\n",
       "        vertical-align: middle;\n",
       "    }\n",
       "\n",
       "    .dataframe tbody tr th {\n",
       "        vertical-align: top;\n",
       "    }\n",
       "\n",
       "    .dataframe thead th {\n",
       "        text-align: right;\n",
       "    }\n",
       "</style>\n",
       "<table border=\"1\" class=\"dataframe\">\n",
       "  <thead>\n",
       "    <tr style=\"text-align: right;\">\n",
       "      <th></th>\n",
       "      <th>yhat</th>\n",
       "      <th>yhat_lower</th>\n",
       "      <th>yhat_upper</th>\n",
       "      <th>y</th>\n",
       "      <th>residuals</th>\n",
       "      <th>perc_error</th>\n",
       "    </tr>\n",
       "  </thead>\n",
       "  <tbody>\n",
       "    <tr>\n",
       "      <th>count</th>\n",
       "      <td>510.000000</td>\n",
       "      <td>510.000000</td>\n",
       "      <td>510.000000</td>\n",
       "      <td>510.000000</td>\n",
       "      <td>510.000000</td>\n",
       "      <td>510.000000</td>\n",
       "    </tr>\n",
       "    <tr>\n",
       "      <th>mean</th>\n",
       "      <td>183.788628</td>\n",
       "      <td>130.546331</td>\n",
       "      <td>237.284118</td>\n",
       "      <td>204.679059</td>\n",
       "      <td>55.120978</td>\n",
       "      <td>29.235588</td>\n",
       "    </tr>\n",
       "    <tr>\n",
       "      <th>std</th>\n",
       "      <td>112.011549</td>\n",
       "      <td>112.734685</td>\n",
       "      <td>112.216977</td>\n",
       "      <td>105.761275</td>\n",
       "      <td>38.263593</td>\n",
       "      <td>17.610990</td>\n",
       "    </tr>\n",
       "    <tr>\n",
       "      <th>min</th>\n",
       "      <td>53.976666</td>\n",
       "      <td>-2.530122</td>\n",
       "      <td>111.700331</td>\n",
       "      <td>84.310000</td>\n",
       "      <td>0.499052</td>\n",
       "      <td>0.428077</td>\n",
       "    </tr>\n",
       "    <tr>\n",
       "      <th>25%</th>\n",
       "      <td>97.639748</td>\n",
       "      <td>46.154139</td>\n",
       "      <td>151.114337</td>\n",
       "      <td>124.592500</td>\n",
       "      <td>28.093027</td>\n",
       "      <td>14.200135</td>\n",
       "    </tr>\n",
       "    <tr>\n",
       "      <th>50%</th>\n",
       "      <td>146.251246</td>\n",
       "      <td>89.273770</td>\n",
       "      <td>200.228246</td>\n",
       "      <td>181.105000</td>\n",
       "      <td>47.831760</td>\n",
       "      <td>27.628949</td>\n",
       "    </tr>\n",
       "    <tr>\n",
       "      <th>75%</th>\n",
       "      <td>234.727236</td>\n",
       "      <td>183.383131</td>\n",
       "      <td>283.472023</td>\n",
       "      <td>230.220000</td>\n",
       "      <td>71.148484</td>\n",
       "      <td>41.629939</td>\n",
       "    </tr>\n",
       "    <tr>\n",
       "      <th>max</th>\n",
       "      <td>450.658091</td>\n",
       "      <td>406.273327</td>\n",
       "      <td>501.055960</td>\n",
       "      <td>501.000000</td>\n",
       "      <td>191.938208</td>\n",
       "      <td>97.553104</td>\n",
       "    </tr>\n",
       "  </tbody>\n",
       "</table>\n",
       "</div>"
      ],
      "text/plain": [
       "             yhat  yhat_lower  yhat_upper           y   residuals  perc_error\n",
       "count  510.000000  510.000000  510.000000  510.000000  510.000000  510.000000\n",
       "mean   183.788628  130.546331  237.284118  204.679059   55.120978   29.235588\n",
       "std    112.011549  112.734685  112.216977  105.761275   38.263593   17.610990\n",
       "min     53.976666   -2.530122  111.700331   84.310000    0.499052    0.428077\n",
       "25%     97.639748   46.154139  151.114337  124.592500   28.093027   14.200135\n",
       "50%    146.251246   89.273770  200.228246  181.105000   47.831760   27.628949\n",
       "75%    234.727236  183.383131  283.472023  230.220000   71.148484   41.629939\n",
       "max    450.658091  406.273327  501.055960  501.000000  191.938208   97.553104"
      ]
     },
     "execution_count": 20,
     "metadata": {},
     "output_type": "execute_result"
    }
   ],
   "source": [
    "# taking a look at some summary stats\n",
    "df_cv.describe()"
   ]
  },
  {
   "cell_type": "markdown",
   "metadata": {},
   "source": [
    "From the summary statistics above, we can see a couple of quick things of note.\n",
    "\n",
    "- The average residual for our predictions was 55.12\n",
    "- That translates to an average percent error of %29.24\n",
    "- Our best prediction was only off by 0.43%\n",
    "- Our worst prediction was off by 97.55%\n",
    "    - this is the grey dot I called out in the comments on the figure above\n",
    "    \n",
    "## Conclusions:\n",
    "\n",
    "- As to the evaluation of this specific model, I'm not blown away, but I'm also not disappointed. From the MAPE stats and residual info shown above, this is right in the ballpark of what I would have expected for a vanilla time series model. Given how easy to use Prophet is, I think one would have to be happy with how much information we can glean from such a low-effort highly-interpretable model. \n",
    "- Prophet is a great tool for gettig started with time series forecasting, because it is very low-effort and the start-up costs are low. If you have a dataframe with dates and corresponding values, you can probably be up and running with a forecast in < 1 hour. Will it be a *good* forecast? Probably not, but that's why the team at facebook has written extensive documentation so that you can make your forecasts incrementally more robust! My goal in sharing this was mainly to make folks aware that this capacity exists, and to encourage others to take a crack at a forecast of their own!\n",
    "- The are [plenty of instances](https://kourentzes.com/forecasting/2017/07/29/benchmarking-facebooks-prophet/) in which Prophet is b no menas the most robust time series forecasting method out there.\n",
    "- There are many things to keep in mind when you are evaluaitng time series performance beyond what I've shown here:\n",
    "    - You want to check for any auto-correlation in your residuals -- more [on this here](https://stats.stackexchange.com/questions/49265/whats-the-deal-with-autocorrelation).\n",
    "    - The diagnostic metrics I showed are all pretty vanilla. One might want to craft their own metric suited for their use case, for example: percent of instances where the MAPE exceeded X%.\n",
    "    - Many other things... again, I'm not a time series expert! If you have any additional caveats you think should absolutely be added, open an issue!\n",
    "\n",
    "## Happy Forecasting! "
   ]
  }
 ],
 "metadata": {
  "kernelspec": {
   "display_name": "Python 3",
   "language": "python",
   "name": "python3"
  },
  "language_info": {
   "codemirror_mode": {
    "name": "ipython",
    "version": 3
   },
   "file_extension": ".py",
   "mimetype": "text/x-python",
   "name": "python",
   "nbconvert_exporter": "python",
   "pygments_lexer": "ipython3",
   "version": "3.7.0"
  }
 },
 "nbformat": 4,
 "nbformat_minor": 2
}
