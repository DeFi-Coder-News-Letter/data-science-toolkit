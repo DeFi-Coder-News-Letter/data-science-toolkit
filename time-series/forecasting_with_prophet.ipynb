{
 "cells": [
  {
   "cell_type": "markdown",
   "metadata": {},
   "source": [
    "# Time Series Forecasting with Prophet \n",
    "\n",
    "## Mini-Vignette: Modeling the Price of Ethereum\n",
    "\n",
    "By: [Paul Jeffries](https://twitter.com/ByPaulJ) \n",
    "\n",
    "Created: 03/27/2019\n",
    "\n",
    "## What is Prophet?\n",
    "\n",
    "[Prophet](https://facebook.github.io/prophet/) is an open source package (for both Python and R) for forecasting time series data based on an additive model where non-linear trends are fit wth yearly, weekly, and daily seasonality, plus holiday effects. It works best with time series that have strong seasonal effects and several seasons of historical data. Prophet is robust to missing data and shifts in the trend, and typically handles outliers well (according to the pcakage documentation). Prophet is open source software released by Facebook's core Data Science team. It is [available for download](https://facebook.github.io/prophet/docs/installation.html) on CRAN and PyPI. The academic paper (still in peer-review at the time of this writing) [is available here](https://peerj.com/preprints/3190/). \n",
    "\n",
    "tl;dr --> Prophet is essentially Facebook's data science team's version of [auto-ARIMA](https://www.analyticsvidhya.com/blog/2018/08/auto-arima-time-series-modeling-python-r/).\n",
    "\n",
    "## Use Case: Understanding Seasonal & Temporal Patterns in the Price of Ethereum\n",
    "\n",
    "Prophet is particularly well-suited for a use case like examining the [daily price of ETH](https://coinmarketcap.com/currencies/ethereum/) (aka Ether)--the 2nd largest cryptoasset [after Bitcoin](https://www.youtube.com/watch?v=0UBk1e5qnr4)--as we have multiple years of daily data, and we suppose that there may be seasonal effects at various levels of granularity that moderate price movement in some way. The motivation for this vignette came from some of [my other work examining price movements in the crypto markets](https://github.com/pmaji/crypto-whale-watching-app), in which I observed many traders claiming that there was a discernable \"weekend bump\" or \"weekend bull\" effect in crypto markets. To summarize, **there have been many claims that weekends are, *ceteris paribus*, more bullish for ETH trading than weekdays. This methodology will enable us to test the veracity of such claims.** While in this vignette I will build a \"forecast\" for the price of ETH, the main goal of this vignette is not to arrive at a perfect price forecast. Instead, the goal is to make use of the explanatory capabilities built into the Prophet package to look for evidence that may either support or contradict the 'weekend bull' thesis. \n",
    "\n",
    "This vignette doesn't fully exlore anywhere near all of the features of Prophet, and is only meant as an introduction. Hopefully you are inspired by what you see below to think of ways to improve this work, perhaps applying it to other time series forecasting applications as well. I am by no means an expert (either of Prophet specifically, or time-series forecasting writ large), but if you have any questions, feel free to [open an issue here on GitHub](https://github.com/pmaji/data-science-toolkit/issues), and, as always, I'll do my best to respond expeditiously. With that, let's get into the code!\n",
    "\n",
    "## Basic Setup"
   ]
  },
  {
   "cell_type": "code",
   "execution_count": 40,
   "metadata": {},
   "outputs": [],
   "source": [
    "# key packages used throughout:\n",
    "\n",
    "# basic packages\n",
    "import pandas as pd\n",
    "import datetime\n",
    "import numpy as np\n",
    "\n",
    "# forecasting package\n",
    "from fbprophet import Prophet\n",
    "# package to import historical crypto OHLC data\n",
    "from cryptory import Cryptory"
   ]
  },
  {
   "cell_type": "markdown",
   "metadata": {},
   "source": [
    "## Pulling Historical Price Data for Ethereum\n",
    "\n",
    "There are plenty ways that one can access historical OHLC data for top cryptocurrencies. If you're interested in data science projects pertaining to cryptocurrencies and/or how to access pertinent crypto data specifically, I highly recommend checking out two other public projects I maintain that deal in the crypto space:\n",
    "\n",
    "- [This one here](https://github.com/pmaji/financial-asset-comparison-tool/blob/master/README.md) is a Python app that tracks \"whale\" (aka large volume) activity in US crypto markets\n",
    "    - This project pulls OHLC crypto data from [Coin Metrics](https://coinmetrics.io/)\n",
    "- [This one here](https://github.com/pmaji/crypto-whale-watching-app) is an R Shiny app that allows for the comparison of the performance of traditional financial assets vs. cryptos\n",
    "    - This project pulls OHLC crypto data [from GDAX's (aka Coinbase Pro's) API](https://docs.pro.coinbase.com/?r=1)\n",
    "    \n",
    "That said, for this vignette, I decided to use the very simple and user-friendly [package \"cryptory\"](https://github.com/dashee87/cryptory) to pull in OHLC data for ETH (sourced from CoinMarketCap). Why ETH... why not Bitcoin or insert-other-cryptocurrency-here? I chose ETH simply because it's the project and community in which I am most personally interested and involved. If you want to see what a forecast for another cryptoasset would look like, simply fork this repo, change one line of code in this notebook, and if you discover something cool, let me know (my twitter is hyperlinked above in the byline)!"
   ]
  },
  {
   "cell_type": "code",
   "execution_count": 41,
   "metadata": {},
   "outputs": [],
   "source": [
    "# initialize the cryptory object \n",
    "# pull data from start of 2015 to present day\n",
    "my_cryptory_obj = Cryptory(from_date = \"2015-01-01\")\n",
    "\n",
    "# get historical ETH OHLC data from coinmarketcap\n",
    "eth_ohlc_hist_df = my_cryptory_obj.extract_coinmarketcap(\"ethereum\")"
   ]
  },
  {
   "cell_type": "code",
   "execution_count": 42,
   "metadata": {},
   "outputs": [
    {
     "name": "stdout",
     "output_type": "stream",
     "text": [
      "(1331, 7)\n"
     ]
    },
    {
     "data": {
      "text/html": [
       "<div>\n",
       "<style scoped>\n",
       "    .dataframe tbody tr th:only-of-type {\n",
       "        vertical-align: middle;\n",
       "    }\n",
       "\n",
       "    .dataframe tbody tr th {\n",
       "        vertical-align: top;\n",
       "    }\n",
       "\n",
       "    .dataframe thead th {\n",
       "        text-align: right;\n",
       "    }\n",
       "</style>\n",
       "<table border=\"1\" class=\"dataframe\">\n",
       "  <thead>\n",
       "    <tr style=\"text-align: right;\">\n",
       "      <th></th>\n",
       "      <th>date</th>\n",
       "      <th>open</th>\n",
       "      <th>high</th>\n",
       "      <th>low</th>\n",
       "      <th>close</th>\n",
       "      <th>volume</th>\n",
       "      <th>marketcap</th>\n",
       "    </tr>\n",
       "  </thead>\n",
       "  <tbody>\n",
       "    <tr>\n",
       "      <th>0</th>\n",
       "      <td>2019-03-29</td>\n",
       "      <td>139.34</td>\n",
       "      <td>142.55</td>\n",
       "      <td>138.05</td>\n",
       "      <td>142.50</td>\n",
       "      <td>5125602702</td>\n",
       "      <td>15025361637</td>\n",
       "    </tr>\n",
       "    <tr>\n",
       "      <th>1</th>\n",
       "      <td>2019-03-28</td>\n",
       "      <td>141.01</td>\n",
       "      <td>141.01</td>\n",
       "      <td>138.43</td>\n",
       "      <td>139.42</td>\n",
       "      <td>4163212475</td>\n",
       "      <td>14698609599</td>\n",
       "    </tr>\n",
       "    <tr>\n",
       "      <th>2</th>\n",
       "      <td>2019-03-27</td>\n",
       "      <td>135.45</td>\n",
       "      <td>141.08</td>\n",
       "      <td>135.34</td>\n",
       "      <td>140.99</td>\n",
       "      <td>5228240093</td>\n",
       "      <td>14862394451</td>\n",
       "    </tr>\n",
       "    <tr>\n",
       "      <th>3</th>\n",
       "      <td>2019-03-26</td>\n",
       "      <td>135.05</td>\n",
       "      <td>135.46</td>\n",
       "      <td>133.76</td>\n",
       "      <td>135.46</td>\n",
       "      <td>4499271679</td>\n",
       "      <td>14277816266</td>\n",
       "    </tr>\n",
       "    <tr>\n",
       "      <th>4</th>\n",
       "      <td>2019-03-25</td>\n",
       "      <td>137.08</td>\n",
       "      <td>137.70</td>\n",
       "      <td>133.49</td>\n",
       "      <td>135.03</td>\n",
       "      <td>4480516753</td>\n",
       "      <td>14230733149</td>\n",
       "    </tr>\n",
       "  </tbody>\n",
       "</table>\n",
       "</div>"
      ],
      "text/plain": [
       "        date    open    high     low   close      volume    marketcap\n",
       "0 2019-03-29  139.34  142.55  138.05  142.50  5125602702  15025361637\n",
       "1 2019-03-28  141.01  141.01  138.43  139.42  4163212475  14698609599\n",
       "2 2019-03-27  135.45  141.08  135.34  140.99  5228240093  14862394451\n",
       "3 2019-03-26  135.05  135.46  133.76  135.46  4499271679  14277816266\n",
       "4 2019-03-25  137.08  137.70  133.49  135.03  4480516753  14230733149"
      ]
     },
     "execution_count": 42,
     "metadata": {},
     "output_type": "execute_result"
    }
   ],
   "source": [
    "# inspect the results\n",
    "print(eth_ohlc_hist_df.shape)\n",
    "eth_ohlc_hist_df.head()"
   ]
  },
  {
   "cell_type": "markdown",
   "metadata": {},
   "source": [
    "From the above we can see that we have some pretty clean data to work with. In most real-world use cases, we won't be that lucky, so if we did have unclean data, here is where in the workflow I would turn to handy packages [like pyjanitor](https://github.com/ericmjl/pyjanitor). If you're interested in one that would look like, you can see that at work in a recent [vignette I wrote up on radar charts here](https://github.com/pmaji/data-science-toolkit/blob/master/eda-and-visualization/radar_charts.ipynb). \n",
    "\n",
    "For the purpose of this project, all we really need from the colums above is our date column, and our price column. For price, we could technically choose from any of the OHLC columns, but I'm going to go with closing price. There is a fundamentals vs. technicals argument to be made here about whether I should care more about closing price than market cap, but that's not the purpose of this vignette. If that subject interests you, [here's a good place to start](https://www.thebalance.com/why-per-share-price-is-not-important-3140791) to learn more. \n",
    "\n",
    "As for time period of interest, I chose to just look at the past ~1 year of data. The reason for this is that prior to that time period, the cryptocurrency markets were incredibly choppy. There was a relatively [large price bubble](https://seekingalpha.com/article/4234452-crypto-bubble-generation-investors-got-burned) in cryptocurrency markets that peaked around December of 2017, so limiting ourselves to a recent vintage prevents, to some extent, this volatility from affecting our forecast. To put it simply, I want this vignette to only **examine temporal trends in ETH's price after the popping of the 2017 price bubble.**"
   ]
  },
  {
   "cell_type": "code",
   "execution_count": 43,
   "metadata": {},
   "outputs": [],
   "source": [
    "# subset main df to get just the date and the closing price\n",
    "eth_price_hist_df = eth_ohlc_hist_df.loc[:,['date','close']]\n",
    "\n",
    "# then filtering to only data from on or after April 1st of 2018\n",
    "eth_price_hist_df = eth_price_hist_df.loc[eth_price_hist_df['date']>='01APR018',:]\n",
    "\n",
    "# rename date column to ds and continous value column to y per fbprophet's docs\n",
    "eth_price_hist_df.columns = ['ds', 'y']"
   ]
  },
  {
   "cell_type": "code",
   "execution_count": 44,
   "metadata": {},
   "outputs": [
    {
     "name": "stdout",
     "output_type": "stream",
     "text": [
      "(363, 2)\n"
     ]
    },
    {
     "data": {
      "text/html": [
       "<div>\n",
       "<style scoped>\n",
       "    .dataframe tbody tr th:only-of-type {\n",
       "        vertical-align: middle;\n",
       "    }\n",
       "\n",
       "    .dataframe tbody tr th {\n",
       "        vertical-align: top;\n",
       "    }\n",
       "\n",
       "    .dataframe thead th {\n",
       "        text-align: right;\n",
       "    }\n",
       "</style>\n",
       "<table border=\"1\" class=\"dataframe\">\n",
       "  <thead>\n",
       "    <tr style=\"text-align: right;\">\n",
       "      <th></th>\n",
       "      <th>ds</th>\n",
       "      <th>y</th>\n",
       "    </tr>\n",
       "  </thead>\n",
       "  <tbody>\n",
       "    <tr>\n",
       "      <th>0</th>\n",
       "      <td>2019-03-29</td>\n",
       "      <td>142.50</td>\n",
       "    </tr>\n",
       "    <tr>\n",
       "      <th>1</th>\n",
       "      <td>2019-03-28</td>\n",
       "      <td>139.42</td>\n",
       "    </tr>\n",
       "    <tr>\n",
       "      <th>2</th>\n",
       "      <td>2019-03-27</td>\n",
       "      <td>140.99</td>\n",
       "    </tr>\n",
       "    <tr>\n",
       "      <th>3</th>\n",
       "      <td>2019-03-26</td>\n",
       "      <td>135.46</td>\n",
       "    </tr>\n",
       "    <tr>\n",
       "      <th>4</th>\n",
       "      <td>2019-03-25</td>\n",
       "      <td>135.03</td>\n",
       "    </tr>\n",
       "  </tbody>\n",
       "</table>\n",
       "</div>"
      ],
      "text/plain": [
       "          ds       y\n",
       "0 2019-03-29  142.50\n",
       "1 2019-03-28  139.42\n",
       "2 2019-03-27  140.99\n",
       "3 2019-03-26  135.46\n",
       "4 2019-03-25  135.03"
      ]
     },
     "execution_count": 44,
     "metadata": {},
     "output_type": "execute_result"
    }
   ],
   "source": [
    "# re-inspecting our df post-subsetting and filtering\n",
    "print(eth_price_hist_df.shape)\n",
    "eth_price_hist_df.head()"
   ]
  },
  {
   "cell_type": "code",
   "execution_count": 45,
   "metadata": {},
   "outputs": [
    {
     "name": "stderr",
     "output_type": "stream",
     "text": [
      "/Users/pauljeffries/anaconda3/lib/python3.7/site-packages/fbprophet/forecaster.py:880: FutureWarning: Series.nonzero() is deprecated and will be removed in a future version.Use Series.to_numpy().nonzero() instead\n",
      "  min_dt = dt.iloc[dt.nonzero()[0]].min()\n",
      "INFO:fbprophet:Disabling yearly seasonality. Run prophet with yearly_seasonality=True to override this.\n",
      "INFO:fbprophet:Disabling daily seasonality. Run prophet with daily_seasonality=True to override this.\n",
      "/Users/pauljeffries/anaconda3/lib/python3.7/site-packages/pystan/misc.py:399: FutureWarning: Conversion of the second argument of issubdtype from `float` to `np.floating` is deprecated. In future, it will be treated as `np.float64 == np.dtype(float).type`.\n",
      "  elif np.issubdtype(np.asarray(v).dtype, float):\n"
     ]
    },
    {
     "data": {
      "text/plain": [
       "<fbprophet.forecaster.Prophet at 0x11fe03588>"
      ]
     },
     "execution_count": 45,
     "metadata": {},
     "output_type": "execute_result"
    }
   ],
   "source": [
    "m = Prophet(\n",
    ")\n",
    "m.fit(eth_price_hist_df)"
   ]
  },
  {
   "cell_type": "code",
   "execution_count": null,
   "metadata": {},
   "outputs": [
    {
     "data": {
      "text/html": [
       "<div>\n",
       "<style scoped>\n",
       "    .dataframe tbody tr th:only-of-type {\n",
       "        vertical-align: middle;\n",
       "    }\n",
       "\n",
       "    .dataframe tbody tr th {\n",
       "        vertical-align: top;\n",
       "    }\n",
       "\n",
       "    .dataframe thead th {\n",
       "        text-align: right;\n",
       "    }\n",
       "</style>\n",
       "<table border=\"1\" class=\"dataframe\">\n",
       "  <thead>\n",
       "    <tr style=\"text-align: right;\">\n",
       "      <th></th>\n",
       "      <th>ds</th>\n",
       "    </tr>\n",
       "  </thead>\n",
       "  <tbody>\n",
       "    <tr>\n",
       "      <th>388</th>\n",
       "      <td>2019-04-24</td>\n",
       "    </tr>\n",
       "    <tr>\n",
       "      <th>389</th>\n",
       "      <td>2019-04-25</td>\n",
       "    </tr>\n",
       "    <tr>\n",
       "      <th>390</th>\n",
       "      <td>2019-04-26</td>\n",
       "    </tr>\n",
       "    <tr>\n",
       "      <th>391</th>\n",
       "      <td>2019-04-27</td>\n",
       "    </tr>\n",
       "    <tr>\n",
       "      <th>392</th>\n",
       "      <td>2019-04-28</td>\n",
       "    </tr>\n",
       "  </tbody>\n",
       "</table>\n",
       "</div>"
      ],
      "text/plain": [
       "            ds\n",
       "388 2019-04-24\n",
       "389 2019-04-25\n",
       "390 2019-04-26\n",
       "391 2019-04-27\n",
       "392 2019-04-28"
      ]
     },
     "execution_count": 46,
     "metadata": {},
     "output_type": "execute_result"
    }
   ],
   "source": [
    "# Python\n",
    "future = m.make_future_dataframe(periods=30)\n",
    "# future.loc[:,'floor'] = saturating_min\n",
    "# future.loc[:,'cap'] = saturating_max\n",
    "future.tail()"
   ]
  },
  {
   "cell_type": "code",
   "execution_count": null,
   "metadata": {},
   "outputs": [],
   "source": [
    "# Python\n",
    "forecast = m.predict(future)\n",
    "forecast[['ds', 'yhat', 'yhat_lower', 'yhat_upper']].tail()"
   ]
  },
  {
   "cell_type": "code",
   "execution_count": null,
   "metadata": {},
   "outputs": [],
   "source": [
    "# Python\n",
    "fig1 = m.plot(forecast)"
   ]
  },
  {
   "cell_type": "code",
   "execution_count": null,
   "metadata": {},
   "outputs": [],
   "source": [
    "%run -i 'prophet_helper_functions.py'"
   ]
  },
  {
   "cell_type": "code",
   "execution_count": null,
   "metadata": {},
   "outputs": [],
   "source": [
    "dt_restricted_prophet_plt(\n",
    "    m = m,\n",
    "    fcst = forecast,\n",
    "    visible_window_start_dt = '01JAN2019',\n",
    "    visible_window_end_dt = '01JUNE2019',\n",
    "    ylabel = \"ETH Price ($)\",\n",
    "    xlabel = \"Time\",\n",
    "    x_axis_date_format = '%Y-%m'\n",
    ");"
   ]
  },
  {
   "cell_type": "code",
   "execution_count": null,
   "metadata": {},
   "outputs": [],
   "source": [
    "# Python\n",
    "fig2 = m.plot_components(forecast)"
   ]
  },
  {
   "cell_type": "code",
   "execution_count": null,
   "metadata": {},
   "outputs": [],
   "source": [
    "%%capture\n",
    "# capturing warnings here because one of the dependencies throws a bunch of numpy deprecation warnings\n",
    "\n",
    "from fbprophet.diagnostics import cross_validation\n",
    "df_dv = cross_validation(m, horizon = '30 days')"
   ]
  },
  {
   "cell_type": "code",
   "execution_count": null,
   "metadata": {},
   "outputs": [],
   "source": [
    "df_dv.head()"
   ]
  },
  {
   "cell_type": "code",
   "execution_count": null,
   "metadata": {},
   "outputs": [],
   "source": [
    "from fbprophet.diagnostics import performance_metrics\n",
    "df_p = performance_metrics(df_dv)\n",
    "df_p.head()"
   ]
  },
  {
   "cell_type": "code",
   "execution_count": null,
   "metadata": {},
   "outputs": [],
   "source": [
    "from fbprophet.plot import plot_cross_validation_metric\n",
    "fig = plot_cross_validation_metric(df_dv, metric = 'mape')"
   ]
  }
 ],
 "metadata": {
  "kernelspec": {
   "display_name": "Python 3",
   "language": "python",
   "name": "python3"
  },
  "language_info": {
   "codemirror_mode": {
    "name": "ipython",
    "version": 3
   },
   "file_extension": ".py",
   "mimetype": "text/x-python",
   "name": "python",
   "nbconvert_exporter": "python",
   "pygments_lexer": "ipython3",
   "version": "3.7.0"
  }
 },
 "nbformat": 4,
 "nbformat_minor": 2
}
